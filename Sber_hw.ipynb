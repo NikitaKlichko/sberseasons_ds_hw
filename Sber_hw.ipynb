{
 "cells": [
  {
   "cell_type": "markdown",
   "metadata": {
    "id": "qb9mY_HmN913"
   },
   "source": [
    "# Домашнее задание для Junior DS по разработке PD модели"
   ]
  },
  {
   "cell_type": "markdown",
   "metadata": {
    "id": "NbqnB_V8N915"
   },
   "source": [
    "<b>Задание:</b> Необходиом разработать модель предсказания дефолта. Даны финансовые данные 32 395 компаний (выручка, активы, пассивы и т.д). Результат будет оцениваться на скрытой выборке из 200 компаний по метрике качества accuracy_score\n",
    "\n",
    "<b>Цель задания</b> научиться / показать знания в разработке моделей оценки риска - probability of default. Задание приближено к реальному, данные синтетические. Лидерборд для оценки собственного решения и геймификации процесса обучения. Первое место в лидерборде не явлется целью. Цель - правильно разарботанная модель, удовлетворяющая требованиям банковской системы. В случае возникновения вопросов, сотрудники блока Риски готовы проконсультировать и дать обратную связь на модель (телеграм чат).\n",
    "\n",
    "<b>Метрика качества</b> accuracy_score вычисляется, как ( True positive + True negative ) / Total. Если сабмит-файл, не правильного формата или неверное количество строк, метрика будет = 0."
   ]
  },
  {
   "cell_type": "markdown",
   "metadata": {
    "id": "EJ9_SMqyN916"
   },
   "source": [
    "### Импортируем библиотеки"
   ]
  },
  {
   "cell_type": "code",
   "execution_count": 1,
   "metadata": {
    "id": "Vo4g-4Y5N917"
   },
   "outputs": [],
   "source": [
    "import pandas as pd\n",
    "import numpy as np\n",
    "from sklearn.metrics import f1_score\n",
    "from matplotlib import pyplot as plt\n",
    "import seaborn as sns\n",
    "from sklearn.preprocessing import StandardScaler\n",
    "from sklearn.model_selection import cross_val_score\n",
    "from sklearn.model_selection import train_test_split\n",
    "from sklearn.linear_model import LogisticRegression\n",
    "from sklearn.metrics import accuracy_score\n",
    "import warnings\n",
    "from collections import Counter\n",
    "from sklearn.preprocessing import PowerTransformer\n",
    "\n",
    "\n",
    "from lightgbm import LGBMClassifier\n",
    "from catboost import CatBoostClassifier\n",
    "from sklearn.linear_model import LogisticRegression\n",
    "from sklearn.model_selection import StratifiedKFold, cross_val_score\n",
    "from sklearn.pipeline import Pipeline, make_pipeline\n",
    "from sklearn.preprocessing import StandardScaler\n",
    "from sklearn.preprocessing import OneHotEncoder\n",
    "from sklearn.compose import ColumnTransformer\n",
    "from sklearn.metrics import roc_auc_score\n",
    "from sklearn.metrics import roc_curve\n",
    "import time\n",
    "\n",
    "warnings.filterwarnings(\"ignore\")"
   ]
  },
  {
   "cell_type": "markdown",
   "metadata": {
    "id": "4k8ndBMHN92A"
   },
   "source": [
    "### Подгружаем данные"
   ]
  },
  {
   "cell_type": "code",
   "execution_count": null,
   "metadata": {
    "colab": {
     "base_uri": "https://localhost:8080/"
    },
    "id": "p6h2C5cJN92B",
    "outputId": "adbc7937-02d7-4582-f274-b147fe97b145"
   },
   "outputs": [
    {
     "name": "stdout",
     "output_type": "stream",
     "text": [
      "--2022-11-03 13:10:29--  https://raw.githubusercontent.com/BKHV/risk_models/master/data/PD-data-train.csv\n",
      "Resolving raw.githubusercontent.com (raw.githubusercontent.com)... 185.199.108.133, 185.199.109.133, 185.199.110.133, ...\n",
      "Connecting to raw.githubusercontent.com (raw.githubusercontent.com)|185.199.108.133|:443... connected.\n",
      "HTTP request sent, awaiting response... 200 OK\n",
      "Length: 5329268 (5.1M) [text/plain]\n",
      "Saving to: ‘PD-data-train.csv’\n",
      "\n",
      "PD-data-train.csv   100%[===================>]   5.08M  --.-KB/s    in 0.09s   \n",
      "\n",
      "2022-11-03 13:10:29 (54.5 MB/s) - ‘PD-data-train.csv’ saved [5329268/5329268]\n",
      "\n",
      "--2022-11-03 13:10:29--  https://raw.githubusercontent.com/BKHV/risk_models/master/data/PD-data-test.csv\n",
      "Resolving raw.githubusercontent.com (raw.githubusercontent.com)... 185.199.110.133, 185.199.108.133, 185.199.111.133, ...\n",
      "Connecting to raw.githubusercontent.com (raw.githubusercontent.com)|185.199.110.133|:443... connected.\n",
      "HTTP request sent, awaiting response... 200 OK\n",
      "Length: 28259 (28K) [text/plain]\n",
      "Saving to: ‘PD-data-test.csv’\n",
      "\n",
      "PD-data-test.csv    100%[===================>]  27.60K  --.-KB/s    in 0.003s  \n",
      "\n",
      "2022-11-03 13:10:30 (9.44 MB/s) - ‘PD-data-test.csv’ saved [28259/28259]\n",
      "\n",
      "--2022-11-03 13:10:30--  https://raw.githubusercontent.com/BKHV/risk_models/master/data/PD-data-desc.csv\n",
      "Resolving raw.githubusercontent.com (raw.githubusercontent.com)... 185.199.110.133, 185.199.109.133, 185.199.111.133, ...\n",
      "Connecting to raw.githubusercontent.com (raw.githubusercontent.com)|185.199.110.133|:443... connected.\n",
      "HTTP request sent, awaiting response... 200 OK\n",
      "Length: 4835 (4.7K) [text/plain]\n",
      "Saving to: ‘PD-data-desc.csv’\n",
      "\n",
      "PD-data-desc.csv    100%[===================>]   4.72K  --.-KB/s    in 0s      \n",
      "\n",
      "2022-11-03 13:10:30 (62.5 MB/s) - ‘PD-data-desc.csv’ saved [4835/4835]\n",
      "\n"
     ]
    }
   ],
   "source": [
    "!wget https://raw.githubusercontent.com/BKHV/risk_models/master/data/PD-data-train.csv\n",
    "!wget https://raw.githubusercontent.com/BKHV/risk_models/master/data/PD-data-test.csv\n",
    "!wget https://raw.githubusercontent.com/BKHV/risk_models/master/data/PD-data-desc.csv"
   ]
  },
  {
   "cell_type": "markdown",
   "metadata": {
    "id": "KIqguRtRj3EN"
   },
   "source": [
    "# EDA"
   ]
  },
  {
   "cell_type": "code",
   "execution_count": 2,
   "metadata": {
    "id": "XwbL4T6rN92G"
   },
   "outputs": [],
   "source": [
    "train_df = pd.read_csv('PD-data-train.csv', sep=';')\n",
    "test_df = pd.read_csv('PD-data-test.csv', sep=';')\n",
    "desc_df = pd.read_csv('PD-data-desc.csv', sep=';')"
   ]
  },
  {
   "cell_type": "code",
   "execution_count": 3,
   "metadata": {
    "colab": {
     "base_uri": "https://localhost:8080/",
     "height": 1000
    },
    "id": "9ZpF0Xi4gJYA",
    "outputId": "d2d50322-1b29-4579-be4c-e038a63c22ac"
   },
   "outputs": [
    {
     "data": {
      "text/html": [
       "<div>\n",
       "<style scoped>\n",
       "    .dataframe tbody tr th:only-of-type {\n",
       "        vertical-align: middle;\n",
       "    }\n",
       "\n",
       "    .dataframe tbody tr th {\n",
       "        vertical-align: top;\n",
       "    }\n",
       "\n",
       "    .dataframe thead th {\n",
       "        text-align: right;\n",
       "    }\n",
       "</style>\n",
       "<table border=\"1\" class=\"dataframe\">\n",
       "  <thead>\n",
       "    <tr style=\"text-align: right;\">\n",
       "      <th></th>\n",
       "      <th>field</th>\n",
       "      <th>desc_eng</th>\n",
       "      <th>desc_rus</th>\n",
       "    </tr>\n",
       "  </thead>\n",
       "  <tbody>\n",
       "    <tr>\n",
       "      <th>0</th>\n",
       "      <td>ar_revenue</td>\n",
       "      <td>Sales revenue (at the end of the last year)</td>\n",
       "      <td>Выручка от реализации (на конец последнего года)</td>\n",
       "    </tr>\n",
       "    <tr>\n",
       "      <th>1</th>\n",
       "      <td>ar_total_expenses</td>\n",
       "      <td>Total expenses for the last year</td>\n",
       "      <td>Общие расходы за последний год</td>\n",
       "    </tr>\n",
       "    <tr>\n",
       "      <th>2</th>\n",
       "      <td>ar_sale_cost</td>\n",
       "      <td>Cost of sales (at the end of the last year)</td>\n",
       "      <td>Себестоимость продаж (на конец последнего года)</td>\n",
       "    </tr>\n",
       "    <tr>\n",
       "      <th>3</th>\n",
       "      <td>ar_selling_expenses</td>\n",
       "      <td>Selling expenses (at the end of the last year)</td>\n",
       "      <td>Коммерческие расходы (на конец последнего года)</td>\n",
       "    </tr>\n",
       "    <tr>\n",
       "      <th>4</th>\n",
       "      <td>ar_management_expenses</td>\n",
       "      <td>Administrative expenses (at the end of the las...</td>\n",
       "      <td>Управленческие расходы (на конец последнего года)</td>\n",
       "    </tr>\n",
       "    <tr>\n",
       "      <th>5</th>\n",
       "      <td>ar_sale_profit</td>\n",
       "      <td>Profit from sales (at the end of the last year)</td>\n",
       "      <td>Прибыль от реализации (на конец последнего года)</td>\n",
       "    </tr>\n",
       "    <tr>\n",
       "      <th>6</th>\n",
       "      <td>ar_balance_of_rvns_and_expns</td>\n",
       "      <td>Balance of income and expenses (at the end of ...</td>\n",
       "      <td>Баланс доходов и расходов (на конец последнего...</td>\n",
       "    </tr>\n",
       "    <tr>\n",
       "      <th>7</th>\n",
       "      <td>ar_profit_before_tax</td>\n",
       "      <td>Gross Profit (end of last year)</td>\n",
       "      <td>Валовая прибыль (на конец последнего года)</td>\n",
       "    </tr>\n",
       "    <tr>\n",
       "      <th>8</th>\n",
       "      <td>ar_taxes</td>\n",
       "      <td>Current income tax (at the end of the last year)</td>\n",
       "      <td>Текущий на налог на прибыль (на конец последне...</td>\n",
       "    </tr>\n",
       "    <tr>\n",
       "      <th>9</th>\n",
       "      <td>ar_other_profit_and_losses</td>\n",
       "      <td>Other income and expenses (at the end of the l...</td>\n",
       "      <td>Прочие доходы и расходы (на конец последнего г...</td>\n",
       "    </tr>\n",
       "    <tr>\n",
       "      <th>10</th>\n",
       "      <td>ar_net_profit</td>\n",
       "      <td>Net profit (at the end of the last year)</td>\n",
       "      <td>Чистая прибыль (на конец последнего года)</td>\n",
       "    </tr>\n",
       "    <tr>\n",
       "      <th>11</th>\n",
       "      <td>ab_immobilized_assets</td>\n",
       "      <td>Fixed assets for the last year</td>\n",
       "      <td>Основные внеоборотные средства за последний год</td>\n",
       "    </tr>\n",
       "    <tr>\n",
       "      <th>12</th>\n",
       "      <td>ab_mobile_current_assets</td>\n",
       "      <td>Current assets (at the end of the last year)</td>\n",
       "      <td>Оборотные активы (на конец последнего года)</td>\n",
       "    </tr>\n",
       "    <tr>\n",
       "      <th>13</th>\n",
       "      <td>ab_inventory</td>\n",
       "      <td>Stocks (at the end of the last year)</td>\n",
       "      <td>Запасы (на конец последнего года)</td>\n",
       "    </tr>\n",
       "    <tr>\n",
       "      <th>14</th>\n",
       "      <td>ab_accounts_receivable</td>\n",
       "      <td>Accounts receivable (at the end of the last year)</td>\n",
       "      <td>Дебиторская задолженность (на конец последнего...</td>\n",
       "    </tr>\n",
       "    <tr>\n",
       "      <th>15</th>\n",
       "      <td>ab_other_current_assets</td>\n",
       "      <td>Other current assets (at the end of the last y...</td>\n",
       "      <td>Прочие оборотные активы (на конец последнего г...</td>\n",
       "    </tr>\n",
       "    <tr>\n",
       "      <th>16</th>\n",
       "      <td>ab_cash_and_securities</td>\n",
       "      <td>Cash and cash equivalents (at the end of the l...</td>\n",
       "      <td>Денежные средства и денежные эквиваленты (на к...</td>\n",
       "    </tr>\n",
       "    <tr>\n",
       "      <th>17</th>\n",
       "      <td>ab_losses</td>\n",
       "      <td>Retained earnings (at the end of the last year)</td>\n",
       "      <td>Нераспределенная прибыль (на конец последнего ...</td>\n",
       "    </tr>\n",
       "    <tr>\n",
       "      <th>18</th>\n",
       "      <td>ab_own_capital</td>\n",
       "      <td>Capital (at the end of the last year)</td>\n",
       "      <td>Капитал (на конец последнего года)</td>\n",
       "    </tr>\n",
       "    <tr>\n",
       "      <th>19</th>\n",
       "      <td>ab_borrowed_capital</td>\n",
       "      <td>Total debt (end of last year)</td>\n",
       "      <td>Общие долговые обязательства (на конец последн...</td>\n",
       "    </tr>\n",
       "    <tr>\n",
       "      <th>20</th>\n",
       "      <td>ab_long_term_liabilities</td>\n",
       "      <td>Long-term liabilities (at the end of the last ...</td>\n",
       "      <td>Долгосрочный обязательства (на конец последнег...</td>\n",
       "    </tr>\n",
       "    <tr>\n",
       "      <th>21</th>\n",
       "      <td>ab_short_term_borrowing</td>\n",
       "      <td>Short-term borrowed funds (at the end of the l...</td>\n",
       "      <td>Краткосрочные заемные средства (на конец после...</td>\n",
       "    </tr>\n",
       "    <tr>\n",
       "      <th>22</th>\n",
       "      <td>ab_accounts_payable</td>\n",
       "      <td>Accounts payable for the last year</td>\n",
       "      <td>Кредиторская задодженность за последний год</td>\n",
       "    </tr>\n",
       "    <tr>\n",
       "      <th>23</th>\n",
       "      <td>ab_other_borrowings</td>\n",
       "      <td>Other liabilities (at the end of the last year)</td>\n",
       "      <td>Прочие обязательства (на конец последнего года)</td>\n",
       "    </tr>\n",
       "    <tr>\n",
       "      <th>24</th>\n",
       "      <td>bus_age</td>\n",
       "      <td>Business duration</td>\n",
       "      <td>Срок ведения бизнеса</td>\n",
       "    </tr>\n",
       "    <tr>\n",
       "      <th>25</th>\n",
       "      <td>ogrn_age</td>\n",
       "      <td>Term from the moment the PSRN was assigned</td>\n",
       "      <td>Срок с момента присваивания ОГРН</td>\n",
       "    </tr>\n",
       "    <tr>\n",
       "      <th>26</th>\n",
       "      <td>adr_actual_age</td>\n",
       "      <td>Term from the date of registration of the lega...</td>\n",
       "      <td>Срок с момента регистрации юридического адреса</td>\n",
       "    </tr>\n",
       "    <tr>\n",
       "      <th>27</th>\n",
       "      <td>head_actual_age</td>\n",
       "      <td>Term since the appointment of the head</td>\n",
       "      <td>Срок с момента назначения руководителя</td>\n",
       "    </tr>\n",
       "    <tr>\n",
       "      <th>28</th>\n",
       "      <td>cap_actual_age</td>\n",
       "      <td>Term from the moment of capital installation</td>\n",
       "      <td>Срок с момента установки капитала</td>\n",
       "    </tr>\n",
       "    <tr>\n",
       "      <th>29</th>\n",
       "      <td>ul_staff_range</td>\n",
       "      <td>The number of employees</td>\n",
       "      <td>Количество сотрудников</td>\n",
       "    </tr>\n",
       "    <tr>\n",
       "      <th>30</th>\n",
       "      <td>ul_capital_sum</td>\n",
       "      <td>Capital amount</td>\n",
       "      <td>Величина капитала</td>\n",
       "    </tr>\n",
       "    <tr>\n",
       "      <th>31</th>\n",
       "      <td>ul_founders_cnt</td>\n",
       "      <td>Number of shareholders</td>\n",
       "      <td>Количество акционеров</td>\n",
       "    </tr>\n",
       "    <tr>\n",
       "      <th>32</th>\n",
       "      <td>ul_branch_cnt</td>\n",
       "      <td>Number of branches</td>\n",
       "      <td>Количество филиалов</td>\n",
       "    </tr>\n",
       "    <tr>\n",
       "      <th>33</th>\n",
       "      <td>ul_strategic_flg</td>\n",
       "      <td>A company of strategic importance</td>\n",
       "      <td>Компания стратегического значения</td>\n",
       "    </tr>\n",
       "    <tr>\n",
       "      <th>34</th>\n",
       "      <td>ul_systematizing_flg</td>\n",
       "      <td>Backbone company</td>\n",
       "      <td>Системообразующая компания</td>\n",
       "    </tr>\n",
       "  </tbody>\n",
       "</table>\n",
       "</div>"
      ],
      "text/plain": [
       "                           field  \\\n",
       "0                     ar_revenue   \n",
       "1              ar_total_expenses   \n",
       "2                   ar_sale_cost   \n",
       "3            ar_selling_expenses   \n",
       "4         ar_management_expenses   \n",
       "5                 ar_sale_profit   \n",
       "6   ar_balance_of_rvns_and_expns   \n",
       "7           ar_profit_before_tax   \n",
       "8                       ar_taxes   \n",
       "9     ar_other_profit_and_losses   \n",
       "10                 ar_net_profit   \n",
       "11         ab_immobilized_assets   \n",
       "12      ab_mobile_current_assets   \n",
       "13                  ab_inventory   \n",
       "14        ab_accounts_receivable   \n",
       "15       ab_other_current_assets   \n",
       "16        ab_cash_and_securities   \n",
       "17                     ab_losses   \n",
       "18                ab_own_capital   \n",
       "19           ab_borrowed_capital   \n",
       "20      ab_long_term_liabilities   \n",
       "21       ab_short_term_borrowing   \n",
       "22           ab_accounts_payable   \n",
       "23           ab_other_borrowings   \n",
       "24                       bus_age   \n",
       "25                      ogrn_age   \n",
       "26                adr_actual_age   \n",
       "27               head_actual_age   \n",
       "28                cap_actual_age   \n",
       "29                ul_staff_range   \n",
       "30                ul_capital_sum   \n",
       "31               ul_founders_cnt   \n",
       "32                 ul_branch_cnt   \n",
       "33              ul_strategic_flg   \n",
       "34          ul_systematizing_flg   \n",
       "\n",
       "                                             desc_eng  \\\n",
       "0         Sales revenue (at the end of the last year)   \n",
       "1                    Total expenses for the last year   \n",
       "2         Cost of sales (at the end of the last year)   \n",
       "3      Selling expenses (at the end of the last year)   \n",
       "4   Administrative expenses (at the end of the las...   \n",
       "5     Profit from sales (at the end of the last year)   \n",
       "6   Balance of income and expenses (at the end of ...   \n",
       "7                     Gross Profit (end of last year)   \n",
       "8    Current income tax (at the end of the last year)   \n",
       "9   Other income and expenses (at the end of the l...   \n",
       "10           Net profit (at the end of the last year)   \n",
       "11                     Fixed assets for the last year   \n",
       "12       Current assets (at the end of the last year)   \n",
       "13               Stocks (at the end of the last year)   \n",
       "14  Accounts receivable (at the end of the last year)   \n",
       "15  Other current assets (at the end of the last y...   \n",
       "16  Cash and cash equivalents (at the end of the l...   \n",
       "17    Retained earnings (at the end of the last year)   \n",
       "18              Capital (at the end of the last year)   \n",
       "19                      Total debt (end of last year)   \n",
       "20  Long-term liabilities (at the end of the last ...   \n",
       "21  Short-term borrowed funds (at the end of the l...   \n",
       "22                 Accounts payable for the last year   \n",
       "23    Other liabilities (at the end of the last year)   \n",
       "24                                  Business duration   \n",
       "25         Term from the moment the PSRN was assigned   \n",
       "26  Term from the date of registration of the lega...   \n",
       "27             Term since the appointment of the head   \n",
       "28       Term from the moment of capital installation   \n",
       "29                            The number of employees   \n",
       "30                                     Capital amount   \n",
       "31                             Number of shareholders   \n",
       "32                                 Number of branches   \n",
       "33                  A company of strategic importance   \n",
       "34                                   Backbone company   \n",
       "\n",
       "                                             desc_rus  \n",
       "0    Выручка от реализации (на конец последнего года)  \n",
       "1                      Общие расходы за последний год  \n",
       "2     Себестоимость продаж (на конец последнего года)  \n",
       "3     Коммерческие расходы (на конец последнего года)  \n",
       "4   Управленческие расходы (на конец последнего года)  \n",
       "5    Прибыль от реализации (на конец последнего года)  \n",
       "6   Баланс доходов и расходов (на конец последнего...  \n",
       "7          Валовая прибыль (на конец последнего года)  \n",
       "8   Текущий на налог на прибыль (на конец последне...  \n",
       "9   Прочие доходы и расходы (на конец последнего г...  \n",
       "10          Чистая прибыль (на конец последнего года)  \n",
       "11    Основные внеоборотные средства за последний год  \n",
       "12        Оборотные активы (на конец последнего года)  \n",
       "13                  Запасы (на конец последнего года)  \n",
       "14  Дебиторская задолженность (на конец последнего...  \n",
       "15  Прочие оборотные активы (на конец последнего г...  \n",
       "16  Денежные средства и денежные эквиваленты (на к...  \n",
       "17  Нераспределенная прибыль (на конец последнего ...  \n",
       "18                 Капитал (на конец последнего года)  \n",
       "19  Общие долговые обязательства (на конец последн...  \n",
       "20  Долгосрочный обязательства (на конец последнег...  \n",
       "21  Краткосрочные заемные средства (на конец после...  \n",
       "22        Кредиторская задодженность за последний год  \n",
       "23    Прочие обязательства (на конец последнего года)  \n",
       "24                               Срок ведения бизнеса  \n",
       "25                   Срок с момента присваивания ОГРН  \n",
       "26     Срок с момента регистрации юридического адреса  \n",
       "27             Срок с момента назначения руководителя  \n",
       "28                  Срок с момента установки капитала  \n",
       "29                             Количество сотрудников  \n",
       "30                                  Величина капитала  \n",
       "31                              Количество акционеров  \n",
       "32                                Количество филиалов  \n",
       "33                  Компания стратегического значения  \n",
       "34                         Системообразующая компания  "
      ]
     },
     "execution_count": 3,
     "metadata": {},
     "output_type": "execute_result"
    }
   ],
   "source": [
    "desc_df"
   ]
  },
  {
   "cell_type": "code",
   "execution_count": 4,
   "metadata": {
    "colab": {
     "base_uri": "https://localhost:8080/",
     "height": 456
    },
    "id": "0O9tVeWjujhq",
    "outputId": "b07c7088-28ff-49a6-b2d6-d1b9089a10c9"
   },
   "outputs": [
    {
     "data": {
      "text/html": [
       "<div>\n",
       "<style scoped>\n",
       "    .dataframe tbody tr th:only-of-type {\n",
       "        vertical-align: middle;\n",
       "    }\n",
       "\n",
       "    .dataframe tbody tr th {\n",
       "        vertical-align: top;\n",
       "    }\n",
       "\n",
       "    .dataframe thead th {\n",
       "        text-align: right;\n",
       "    }\n",
       "</style>\n",
       "<table border=\"1\" class=\"dataframe\">\n",
       "  <thead>\n",
       "    <tr style=\"text-align: right;\">\n",
       "      <th></th>\n",
       "      <th>record_id</th>\n",
       "      <th>ar_revenue</th>\n",
       "      <th>ar_total_expenses</th>\n",
       "      <th>ar_sale_cost</th>\n",
       "      <th>ar_selling_expenses</th>\n",
       "      <th>ar_management_expenses</th>\n",
       "      <th>ar_sale_profit</th>\n",
       "      <th>ar_balance_of_rvns_and_expns</th>\n",
       "      <th>ar_profit_before_tax</th>\n",
       "      <th>ar_taxes</th>\n",
       "      <th>...</th>\n",
       "      <th>adr_actual_age</th>\n",
       "      <th>head_actual_age</th>\n",
       "      <th>cap_actual_age</th>\n",
       "      <th>ul_staff_range</th>\n",
       "      <th>ul_capital_sum</th>\n",
       "      <th>ul_founders_cnt</th>\n",
       "      <th>ul_branch_cnt</th>\n",
       "      <th>ul_strategic_flg</th>\n",
       "      <th>ul_systematizing_flg</th>\n",
       "      <th>default_12m</th>\n",
       "    </tr>\n",
       "  </thead>\n",
       "  <tbody>\n",
       "    <tr>\n",
       "      <th>0</th>\n",
       "      <td>7</td>\n",
       "      <td>52996000.0</td>\n",
       "      <td>48344000.0</td>\n",
       "      <td>48344000.0</td>\n",
       "      <td>0.0</td>\n",
       "      <td>0.0</td>\n",
       "      <td>4652000.0</td>\n",
       "      <td>-2608000.0</td>\n",
       "      <td>2044000.0</td>\n",
       "      <td>846000.0</td>\n",
       "      <td>...</td>\n",
       "      <td>3</td>\n",
       "      <td>3</td>\n",
       "      <td>3</td>\n",
       "      <td>[1-100]</td>\n",
       "      <td>50000.0</td>\n",
       "      <td>2</td>\n",
       "      <td>0</td>\n",
       "      <td>0</td>\n",
       "      <td>0</td>\n",
       "      <td>0</td>\n",
       "    </tr>\n",
       "    <tr>\n",
       "      <th>1</th>\n",
       "      <td>13</td>\n",
       "      <td>NaN</td>\n",
       "      <td>NaN</td>\n",
       "      <td>NaN</td>\n",
       "      <td>NaN</td>\n",
       "      <td>NaN</td>\n",
       "      <td>NaN</td>\n",
       "      <td>NaN</td>\n",
       "      <td>NaN</td>\n",
       "      <td>NaN</td>\n",
       "      <td>...</td>\n",
       "      <td>12</td>\n",
       "      <td>12</td>\n",
       "      <td>12</td>\n",
       "      <td>[1-100]</td>\n",
       "      <td>10000.0</td>\n",
       "      <td>5</td>\n",
       "      <td>0</td>\n",
       "      <td>0</td>\n",
       "      <td>0</td>\n",
       "      <td>0</td>\n",
       "    </tr>\n",
       "    <tr>\n",
       "      <th>2</th>\n",
       "      <td>18</td>\n",
       "      <td>NaN</td>\n",
       "      <td>NaN</td>\n",
       "      <td>NaN</td>\n",
       "      <td>NaN</td>\n",
       "      <td>NaN</td>\n",
       "      <td>NaN</td>\n",
       "      <td>NaN</td>\n",
       "      <td>NaN</td>\n",
       "      <td>NaN</td>\n",
       "      <td>...</td>\n",
       "      <td>28</td>\n",
       "      <td>28</td>\n",
       "      <td>28</td>\n",
       "      <td>[1-100]</td>\n",
       "      <td>10000.0</td>\n",
       "      <td>2</td>\n",
       "      <td>0</td>\n",
       "      <td>0</td>\n",
       "      <td>0</td>\n",
       "      <td>0</td>\n",
       "    </tr>\n",
       "    <tr>\n",
       "      <th>3</th>\n",
       "      <td>22</td>\n",
       "      <td>32049000.0</td>\n",
       "      <td>29568000.0</td>\n",
       "      <td>29568000.0</td>\n",
       "      <td>0.0</td>\n",
       "      <td>0.0</td>\n",
       "      <td>2481000.0</td>\n",
       "      <td>-260000.0</td>\n",
       "      <td>2221000.0</td>\n",
       "      <td>302000.0</td>\n",
       "      <td>...</td>\n",
       "      <td>8</td>\n",
       "      <td>8</td>\n",
       "      <td>8</td>\n",
       "      <td>[1-100]</td>\n",
       "      <td>300000.0</td>\n",
       "      <td>1</td>\n",
       "      <td>0</td>\n",
       "      <td>0</td>\n",
       "      <td>0</td>\n",
       "      <td>0</td>\n",
       "    </tr>\n",
       "    <tr>\n",
       "      <th>4</th>\n",
       "      <td>23</td>\n",
       "      <td>16458000.0</td>\n",
       "      <td>14935000.0</td>\n",
       "      <td>14935000.0</td>\n",
       "      <td>0.0</td>\n",
       "      <td>0.0</td>\n",
       "      <td>1523000.0</td>\n",
       "      <td>-274000.0</td>\n",
       "      <td>1249000.0</td>\n",
       "      <td>538000.0</td>\n",
       "      <td>...</td>\n",
       "      <td>27</td>\n",
       "      <td>27</td>\n",
       "      <td>27</td>\n",
       "      <td>[1-100]</td>\n",
       "      <td>10000.0</td>\n",
       "      <td>2</td>\n",
       "      <td>0</td>\n",
       "      <td>0</td>\n",
       "      <td>0</td>\n",
       "      <td>0</td>\n",
       "    </tr>\n",
       "    <tr>\n",
       "      <th>5</th>\n",
       "      <td>24</td>\n",
       "      <td>NaN</td>\n",
       "      <td>NaN</td>\n",
       "      <td>NaN</td>\n",
       "      <td>NaN</td>\n",
       "      <td>NaN</td>\n",
       "      <td>NaN</td>\n",
       "      <td>NaN</td>\n",
       "      <td>NaN</td>\n",
       "      <td>NaN</td>\n",
       "      <td>...</td>\n",
       "      <td>5</td>\n",
       "      <td>5</td>\n",
       "      <td>5</td>\n",
       "      <td>[1-100]</td>\n",
       "      <td>350000.0</td>\n",
       "      <td>1</td>\n",
       "      <td>0</td>\n",
       "      <td>0</td>\n",
       "      <td>0</td>\n",
       "      <td>0</td>\n",
       "    </tr>\n",
       "    <tr>\n",
       "      <th>6</th>\n",
       "      <td>30</td>\n",
       "      <td>NaN</td>\n",
       "      <td>NaN</td>\n",
       "      <td>NaN</td>\n",
       "      <td>NaN</td>\n",
       "      <td>NaN</td>\n",
       "      <td>NaN</td>\n",
       "      <td>NaN</td>\n",
       "      <td>NaN</td>\n",
       "      <td>NaN</td>\n",
       "      <td>...</td>\n",
       "      <td>7</td>\n",
       "      <td>7</td>\n",
       "      <td>7</td>\n",
       "      <td>[1-100]</td>\n",
       "      <td>35000.0</td>\n",
       "      <td>3</td>\n",
       "      <td>0</td>\n",
       "      <td>0</td>\n",
       "      <td>0</td>\n",
       "      <td>0</td>\n",
       "    </tr>\n",
       "    <tr>\n",
       "      <th>7</th>\n",
       "      <td>37</td>\n",
       "      <td>NaN</td>\n",
       "      <td>NaN</td>\n",
       "      <td>NaN</td>\n",
       "      <td>NaN</td>\n",
       "      <td>NaN</td>\n",
       "      <td>NaN</td>\n",
       "      <td>NaN</td>\n",
       "      <td>NaN</td>\n",
       "      <td>NaN</td>\n",
       "      <td>...</td>\n",
       "      <td>30</td>\n",
       "      <td>30</td>\n",
       "      <td>30</td>\n",
       "      <td>[1-100]</td>\n",
       "      <td>10000.0</td>\n",
       "      <td>2</td>\n",
       "      <td>0</td>\n",
       "      <td>0</td>\n",
       "      <td>0</td>\n",
       "      <td>0</td>\n",
       "    </tr>\n",
       "    <tr>\n",
       "      <th>8</th>\n",
       "      <td>38</td>\n",
       "      <td>NaN</td>\n",
       "      <td>NaN</td>\n",
       "      <td>NaN</td>\n",
       "      <td>NaN</td>\n",
       "      <td>NaN</td>\n",
       "      <td>NaN</td>\n",
       "      <td>NaN</td>\n",
       "      <td>NaN</td>\n",
       "      <td>NaN</td>\n",
       "      <td>...</td>\n",
       "      <td>26</td>\n",
       "      <td>26</td>\n",
       "      <td>26</td>\n",
       "      <td>[1-100]</td>\n",
       "      <td>10000.0</td>\n",
       "      <td>1</td>\n",
       "      <td>0</td>\n",
       "      <td>0</td>\n",
       "      <td>0</td>\n",
       "      <td>0</td>\n",
       "    </tr>\n",
       "    <tr>\n",
       "      <th>9</th>\n",
       "      <td>40</td>\n",
       "      <td>125432000.0</td>\n",
       "      <td>122655000.0</td>\n",
       "      <td>122655000.0</td>\n",
       "      <td>0.0</td>\n",
       "      <td>0.0</td>\n",
       "      <td>2777000.0</td>\n",
       "      <td>-63000.0</td>\n",
       "      <td>2714000.0</td>\n",
       "      <td>579000.0</td>\n",
       "      <td>...</td>\n",
       "      <td>15</td>\n",
       "      <td>15</td>\n",
       "      <td>15</td>\n",
       "      <td>(100-500]</td>\n",
       "      <td>10000.0</td>\n",
       "      <td>2</td>\n",
       "      <td>0</td>\n",
       "      <td>0</td>\n",
       "      <td>0</td>\n",
       "      <td>0</td>\n",
       "    </tr>\n",
       "  </tbody>\n",
       "</table>\n",
       "<p>10 rows × 37 columns</p>\n",
       "</div>"
      ],
      "text/plain": [
       "   record_id   ar_revenue  ar_total_expenses  ar_sale_cost  \\\n",
       "0          7   52996000.0         48344000.0    48344000.0   \n",
       "1         13          NaN                NaN           NaN   \n",
       "2         18          NaN                NaN           NaN   \n",
       "3         22   32049000.0         29568000.0    29568000.0   \n",
       "4         23   16458000.0         14935000.0    14935000.0   \n",
       "5         24          NaN                NaN           NaN   \n",
       "6         30          NaN                NaN           NaN   \n",
       "7         37          NaN                NaN           NaN   \n",
       "8         38          NaN                NaN           NaN   \n",
       "9         40  125432000.0        122655000.0   122655000.0   \n",
       "\n",
       "   ar_selling_expenses  ar_management_expenses  ar_sale_profit  \\\n",
       "0                  0.0                     0.0       4652000.0   \n",
       "1                  NaN                     NaN             NaN   \n",
       "2                  NaN                     NaN             NaN   \n",
       "3                  0.0                     0.0       2481000.0   \n",
       "4                  0.0                     0.0       1523000.0   \n",
       "5                  NaN                     NaN             NaN   \n",
       "6                  NaN                     NaN             NaN   \n",
       "7                  NaN                     NaN             NaN   \n",
       "8                  NaN                     NaN             NaN   \n",
       "9                  0.0                     0.0       2777000.0   \n",
       "\n",
       "   ar_balance_of_rvns_and_expns  ar_profit_before_tax  ar_taxes  ...  \\\n",
       "0                    -2608000.0             2044000.0  846000.0  ...   \n",
       "1                           NaN                   NaN       NaN  ...   \n",
       "2                           NaN                   NaN       NaN  ...   \n",
       "3                     -260000.0             2221000.0  302000.0  ...   \n",
       "4                     -274000.0             1249000.0  538000.0  ...   \n",
       "5                           NaN                   NaN       NaN  ...   \n",
       "6                           NaN                   NaN       NaN  ...   \n",
       "7                           NaN                   NaN       NaN  ...   \n",
       "8                           NaN                   NaN       NaN  ...   \n",
       "9                      -63000.0             2714000.0  579000.0  ...   \n",
       "\n",
       "   adr_actual_age  head_actual_age  cap_actual_age  ul_staff_range  \\\n",
       "0               3                3               3         [1-100]   \n",
       "1              12               12              12         [1-100]   \n",
       "2              28               28              28         [1-100]   \n",
       "3               8                8               8         [1-100]   \n",
       "4              27               27              27         [1-100]   \n",
       "5               5                5               5         [1-100]   \n",
       "6               7                7               7         [1-100]   \n",
       "7              30               30              30         [1-100]   \n",
       "8              26               26              26         [1-100]   \n",
       "9              15               15              15       (100-500]   \n",
       "\n",
       "   ul_capital_sum  ul_founders_cnt  ul_branch_cnt  ul_strategic_flg  \\\n",
       "0         50000.0                2              0                 0   \n",
       "1         10000.0                5              0                 0   \n",
       "2         10000.0                2              0                 0   \n",
       "3        300000.0                1              0                 0   \n",
       "4         10000.0                2              0                 0   \n",
       "5        350000.0                1              0                 0   \n",
       "6         35000.0                3              0                 0   \n",
       "7         10000.0                2              0                 0   \n",
       "8         10000.0                1              0                 0   \n",
       "9         10000.0                2              0                 0   \n",
       "\n",
       "   ul_systematizing_flg  default_12m  \n",
       "0                     0            0  \n",
       "1                     0            0  \n",
       "2                     0            0  \n",
       "3                     0            0  \n",
       "4                     0            0  \n",
       "5                     0            0  \n",
       "6                     0            0  \n",
       "7                     0            0  \n",
       "8                     0            0  \n",
       "9                     0            0  \n",
       "\n",
       "[10 rows x 37 columns]"
      ]
     },
     "execution_count": 4,
     "metadata": {},
     "output_type": "execute_result"
    }
   ],
   "source": [
    "train_df.head(10)"
   ]
  },
  {
   "cell_type": "code",
   "execution_count": 5,
   "metadata": {
    "colab": {
     "base_uri": "https://localhost:8080/",
     "height": 456
    },
    "id": "a_q-cVpzvLQn",
    "outputId": "32bbbdef-4f24-4414-a82c-a274f698db0b"
   },
   "outputs": [
    {
     "data": {
      "text/html": [
       "<div>\n",
       "<style scoped>\n",
       "    .dataframe tbody tr th:only-of-type {\n",
       "        vertical-align: middle;\n",
       "    }\n",
       "\n",
       "    .dataframe tbody tr th {\n",
       "        vertical-align: top;\n",
       "    }\n",
       "\n",
       "    .dataframe thead th {\n",
       "        text-align: right;\n",
       "    }\n",
       "</style>\n",
       "<table border=\"1\" class=\"dataframe\">\n",
       "  <thead>\n",
       "    <tr style=\"text-align: right;\">\n",
       "      <th></th>\n",
       "      <th>record_id</th>\n",
       "      <th>ar_revenue</th>\n",
       "      <th>ar_total_expenses</th>\n",
       "      <th>ar_sale_cost</th>\n",
       "      <th>ar_selling_expenses</th>\n",
       "      <th>ar_management_expenses</th>\n",
       "      <th>ar_sale_profit</th>\n",
       "      <th>ar_balance_of_rvns_and_expns</th>\n",
       "      <th>ar_profit_before_tax</th>\n",
       "      <th>ar_taxes</th>\n",
       "      <th>...</th>\n",
       "      <th>ogrn_age</th>\n",
       "      <th>adr_actual_age</th>\n",
       "      <th>head_actual_age</th>\n",
       "      <th>cap_actual_age</th>\n",
       "      <th>ul_staff_range</th>\n",
       "      <th>ul_capital_sum</th>\n",
       "      <th>ul_founders_cnt</th>\n",
       "      <th>ul_branch_cnt</th>\n",
       "      <th>ul_strategic_flg</th>\n",
       "      <th>ul_systematizing_flg</th>\n",
       "    </tr>\n",
       "  </thead>\n",
       "  <tbody>\n",
       "    <tr>\n",
       "      <th>0</th>\n",
       "      <td>196</td>\n",
       "      <td>39103000.0</td>\n",
       "      <td>38913000.0</td>\n",
       "      <td>38913000.0</td>\n",
       "      <td>0.0</td>\n",
       "      <td>0.0</td>\n",
       "      <td>190000.0</td>\n",
       "      <td>141000.0</td>\n",
       "      <td>331000.0</td>\n",
       "      <td>284000.0</td>\n",
       "      <td>...</td>\n",
       "      <td>135</td>\n",
       "      <td>3</td>\n",
       "      <td>3</td>\n",
       "      <td>3</td>\n",
       "      <td>[1-100]</td>\n",
       "      <td>100000.0</td>\n",
       "      <td>1</td>\n",
       "      <td>0</td>\n",
       "      <td>0</td>\n",
       "      <td>0</td>\n",
       "    </tr>\n",
       "    <tr>\n",
       "      <th>1</th>\n",
       "      <td>1196</td>\n",
       "      <td>NaN</td>\n",
       "      <td>NaN</td>\n",
       "      <td>NaN</td>\n",
       "      <td>NaN</td>\n",
       "      <td>NaN</td>\n",
       "      <td>NaN</td>\n",
       "      <td>NaN</td>\n",
       "      <td>NaN</td>\n",
       "      <td>NaN</td>\n",
       "      <td>...</td>\n",
       "      <td>138</td>\n",
       "      <td>5</td>\n",
       "      <td>5</td>\n",
       "      <td>5</td>\n",
       "      <td>[1-100]</td>\n",
       "      <td>100000.0</td>\n",
       "      <td>1</td>\n",
       "      <td>0</td>\n",
       "      <td>0</td>\n",
       "      <td>0</td>\n",
       "    </tr>\n",
       "    <tr>\n",
       "      <th>2</th>\n",
       "      <td>2813</td>\n",
       "      <td>54174000.0</td>\n",
       "      <td>50929000.0</td>\n",
       "      <td>50929000.0</td>\n",
       "      <td>0.0</td>\n",
       "      <td>0.0</td>\n",
       "      <td>3245000.0</td>\n",
       "      <td>-1278000.0</td>\n",
       "      <td>1967000.0</td>\n",
       "      <td>500000.0</td>\n",
       "      <td>...</td>\n",
       "      <td>138</td>\n",
       "      <td>20</td>\n",
       "      <td>20</td>\n",
       "      <td>20</td>\n",
       "      <td>[1-100]</td>\n",
       "      <td>250000.0</td>\n",
       "      <td>2</td>\n",
       "      <td>0</td>\n",
       "      <td>0</td>\n",
       "      <td>0</td>\n",
       "    </tr>\n",
       "    <tr>\n",
       "      <th>3</th>\n",
       "      <td>4385</td>\n",
       "      <td>1904000.0</td>\n",
       "      <td>1679000.0</td>\n",
       "      <td>1679000.0</td>\n",
       "      <td>0.0</td>\n",
       "      <td>0.0</td>\n",
       "      <td>225000.0</td>\n",
       "      <td>-88000.0</td>\n",
       "      <td>137000.0</td>\n",
       "      <td>0.0</td>\n",
       "      <td>...</td>\n",
       "      <td>139</td>\n",
       "      <td>9</td>\n",
       "      <td>9</td>\n",
       "      <td>9</td>\n",
       "      <td>[1-100]</td>\n",
       "      <td>10000.0</td>\n",
       "      <td>2</td>\n",
       "      <td>0</td>\n",
       "      <td>0</td>\n",
       "      <td>0</td>\n",
       "    </tr>\n",
       "    <tr>\n",
       "      <th>4</th>\n",
       "      <td>6479</td>\n",
       "      <td>225584000.0</td>\n",
       "      <td>210685000.0</td>\n",
       "      <td>210685000.0</td>\n",
       "      <td>0.0</td>\n",
       "      <td>0.0</td>\n",
       "      <td>14899000.0</td>\n",
       "      <td>-12715000.0</td>\n",
       "      <td>2184000.0</td>\n",
       "      <td>445000.0</td>\n",
       "      <td>...</td>\n",
       "      <td>139</td>\n",
       "      <td>3</td>\n",
       "      <td>3</td>\n",
       "      <td>3</td>\n",
       "      <td>(100-500]</td>\n",
       "      <td>1700598.0</td>\n",
       "      <td>84</td>\n",
       "      <td>0</td>\n",
       "      <td>0</td>\n",
       "      <td>0</td>\n",
       "    </tr>\n",
       "    <tr>\n",
       "      <th>5</th>\n",
       "      <td>6726</td>\n",
       "      <td>14447000.0</td>\n",
       "      <td>13843000.0</td>\n",
       "      <td>13843000.0</td>\n",
       "      <td>0.0</td>\n",
       "      <td>0.0</td>\n",
       "      <td>604000.0</td>\n",
       "      <td>400000.0</td>\n",
       "      <td>1004000.0</td>\n",
       "      <td>0.0</td>\n",
       "      <td>...</td>\n",
       "      <td>92</td>\n",
       "      <td>14</td>\n",
       "      <td>14</td>\n",
       "      <td>14</td>\n",
       "      <td>&gt; 500</td>\n",
       "      <td>558967.0</td>\n",
       "      <td>1</td>\n",
       "      <td>0</td>\n",
       "      <td>0</td>\n",
       "      <td>0</td>\n",
       "    </tr>\n",
       "    <tr>\n",
       "      <th>6</th>\n",
       "      <td>9178</td>\n",
       "      <td>NaN</td>\n",
       "      <td>NaN</td>\n",
       "      <td>NaN</td>\n",
       "      <td>NaN</td>\n",
       "      <td>NaN</td>\n",
       "      <td>NaN</td>\n",
       "      <td>NaN</td>\n",
       "      <td>NaN</td>\n",
       "      <td>NaN</td>\n",
       "      <td>...</td>\n",
       "      <td>98</td>\n",
       "      <td>28</td>\n",
       "      <td>28</td>\n",
       "      <td>28</td>\n",
       "      <td>(100-500]</td>\n",
       "      <td>10000.0</td>\n",
       "      <td>1</td>\n",
       "      <td>0</td>\n",
       "      <td>0</td>\n",
       "      <td>0</td>\n",
       "    </tr>\n",
       "    <tr>\n",
       "      <th>7</th>\n",
       "      <td>13143</td>\n",
       "      <td>NaN</td>\n",
       "      <td>NaN</td>\n",
       "      <td>NaN</td>\n",
       "      <td>NaN</td>\n",
       "      <td>NaN</td>\n",
       "      <td>NaN</td>\n",
       "      <td>NaN</td>\n",
       "      <td>NaN</td>\n",
       "      <td>NaN</td>\n",
       "      <td>...</td>\n",
       "      <td>43</td>\n",
       "      <td>28</td>\n",
       "      <td>28</td>\n",
       "      <td>28</td>\n",
       "      <td>[1-100]</td>\n",
       "      <td>10000.0</td>\n",
       "      <td>1</td>\n",
       "      <td>0</td>\n",
       "      <td>0</td>\n",
       "      <td>0</td>\n",
       "    </tr>\n",
       "    <tr>\n",
       "      <th>8</th>\n",
       "      <td>13547</td>\n",
       "      <td>NaN</td>\n",
       "      <td>NaN</td>\n",
       "      <td>NaN</td>\n",
       "      <td>NaN</td>\n",
       "      <td>NaN</td>\n",
       "      <td>NaN</td>\n",
       "      <td>NaN</td>\n",
       "      <td>NaN</td>\n",
       "      <td>NaN</td>\n",
       "      <td>...</td>\n",
       "      <td>16</td>\n",
       "      <td>11</td>\n",
       "      <td>11</td>\n",
       "      <td>11</td>\n",
       "      <td>[1-100]</td>\n",
       "      <td>10000.0</td>\n",
       "      <td>1</td>\n",
       "      <td>0</td>\n",
       "      <td>0</td>\n",
       "      <td>0</td>\n",
       "    </tr>\n",
       "    <tr>\n",
       "      <th>9</th>\n",
       "      <td>18483</td>\n",
       "      <td>NaN</td>\n",
       "      <td>NaN</td>\n",
       "      <td>NaN</td>\n",
       "      <td>NaN</td>\n",
       "      <td>NaN</td>\n",
       "      <td>NaN</td>\n",
       "      <td>NaN</td>\n",
       "      <td>NaN</td>\n",
       "      <td>NaN</td>\n",
       "      <td>...</td>\n",
       "      <td>33</td>\n",
       "      <td>2</td>\n",
       "      <td>2</td>\n",
       "      <td>2</td>\n",
       "      <td>[1-100]</td>\n",
       "      <td>10000.0</td>\n",
       "      <td>1</td>\n",
       "      <td>0</td>\n",
       "      <td>0</td>\n",
       "      <td>0</td>\n",
       "    </tr>\n",
       "  </tbody>\n",
       "</table>\n",
       "<p>10 rows × 36 columns</p>\n",
       "</div>"
      ],
      "text/plain": [
       "   record_id   ar_revenue  ar_total_expenses  ar_sale_cost  \\\n",
       "0        196   39103000.0         38913000.0    38913000.0   \n",
       "1       1196          NaN                NaN           NaN   \n",
       "2       2813   54174000.0         50929000.0    50929000.0   \n",
       "3       4385    1904000.0          1679000.0     1679000.0   \n",
       "4       6479  225584000.0        210685000.0   210685000.0   \n",
       "5       6726   14447000.0         13843000.0    13843000.0   \n",
       "6       9178          NaN                NaN           NaN   \n",
       "7      13143          NaN                NaN           NaN   \n",
       "8      13547          NaN                NaN           NaN   \n",
       "9      18483          NaN                NaN           NaN   \n",
       "\n",
       "   ar_selling_expenses  ar_management_expenses  ar_sale_profit  \\\n",
       "0                  0.0                     0.0        190000.0   \n",
       "1                  NaN                     NaN             NaN   \n",
       "2                  0.0                     0.0       3245000.0   \n",
       "3                  0.0                     0.0        225000.0   \n",
       "4                  0.0                     0.0      14899000.0   \n",
       "5                  0.0                     0.0        604000.0   \n",
       "6                  NaN                     NaN             NaN   \n",
       "7                  NaN                     NaN             NaN   \n",
       "8                  NaN                     NaN             NaN   \n",
       "9                  NaN                     NaN             NaN   \n",
       "\n",
       "   ar_balance_of_rvns_and_expns  ar_profit_before_tax  ar_taxes  ...  \\\n",
       "0                      141000.0              331000.0  284000.0  ...   \n",
       "1                           NaN                   NaN       NaN  ...   \n",
       "2                    -1278000.0             1967000.0  500000.0  ...   \n",
       "3                      -88000.0              137000.0       0.0  ...   \n",
       "4                   -12715000.0             2184000.0  445000.0  ...   \n",
       "5                      400000.0             1004000.0       0.0  ...   \n",
       "6                           NaN                   NaN       NaN  ...   \n",
       "7                           NaN                   NaN       NaN  ...   \n",
       "8                           NaN                   NaN       NaN  ...   \n",
       "9                           NaN                   NaN       NaN  ...   \n",
       "\n",
       "   ogrn_age  adr_actual_age  head_actual_age  cap_actual_age  ul_staff_range  \\\n",
       "0       135               3                3               3         [1-100]   \n",
       "1       138               5                5               5         [1-100]   \n",
       "2       138              20               20              20         [1-100]   \n",
       "3       139               9                9               9         [1-100]   \n",
       "4       139               3                3               3       (100-500]   \n",
       "5        92              14               14              14           > 500   \n",
       "6        98              28               28              28       (100-500]   \n",
       "7        43              28               28              28         [1-100]   \n",
       "8        16              11               11              11         [1-100]   \n",
       "9        33               2                2               2         [1-100]   \n",
       "\n",
       "   ul_capital_sum  ul_founders_cnt  ul_branch_cnt  ul_strategic_flg  \\\n",
       "0        100000.0                1              0                 0   \n",
       "1        100000.0                1              0                 0   \n",
       "2        250000.0                2              0                 0   \n",
       "3         10000.0                2              0                 0   \n",
       "4       1700598.0               84              0                 0   \n",
       "5        558967.0                1              0                 0   \n",
       "6         10000.0                1              0                 0   \n",
       "7         10000.0                1              0                 0   \n",
       "8         10000.0                1              0                 0   \n",
       "9         10000.0                1              0                 0   \n",
       "\n",
       "   ul_systematizing_flg  \n",
       "0                     0  \n",
       "1                     0  \n",
       "2                     0  \n",
       "3                     0  \n",
       "4                     0  \n",
       "5                     0  \n",
       "6                     0  \n",
       "7                     0  \n",
       "8                     0  \n",
       "9                     0  \n",
       "\n",
       "[10 rows x 36 columns]"
      ]
     },
     "execution_count": 5,
     "metadata": {},
     "output_type": "execute_result"
    }
   ],
   "source": [
    "test_df.head(10)"
   ]
  },
  {
   "cell_type": "code",
   "execution_count": 6,
   "metadata": {
    "colab": {
     "base_uri": "https://localhost:8080/"
    },
    "id": "NvfRURgHyE2U",
    "outputId": "3cdea4c9-1477-44e6-9c08-e7506a794f15"
   },
   "outputs": [
    {
     "data": {
      "text/plain": [
       "(32395, 37)"
      ]
     },
     "execution_count": 6,
     "metadata": {},
     "output_type": "execute_result"
    }
   ],
   "source": [
    "train_df.shape"
   ]
  },
  {
   "cell_type": "code",
   "execution_count": 7,
   "metadata": {
    "colab": {
     "base_uri": "https://localhost:8080/"
    },
    "id": "OkZIG7GfxTKz",
    "outputId": "2e907d9b-b23a-4dc3-f600-aa7bfd542dfb",
    "scrolled": true
   },
   "outputs": [
    {
     "data": {
      "text/plain": [
       "32395"
      ]
     },
     "execution_count": 7,
     "metadata": {},
     "output_type": "execute_result"
    }
   ],
   "source": [
    "\n",
    "train_df.record_id.nunique()"
   ]
  },
  {
   "cell_type": "code",
   "execution_count": 8,
   "metadata": {
    "colab": {
     "base_uri": "https://localhost:8080/"
    },
    "id": "AbnhVe_AyIaU",
    "outputId": "e4d8b901-8dc0-45b7-ce95-46112e8a26bf"
   },
   "outputs": [
    {
     "data": {
      "text/plain": [
       "float64    25\n",
       "int64      11\n",
       "object      1\n",
       "dtype: int64"
      ]
     },
     "execution_count": 8,
     "metadata": {},
     "output_type": "execute_result"
    }
   ],
   "source": [
    "train_df.dtypes.value_counts()"
   ]
  },
  {
   "cell_type": "code",
   "execution_count": 9,
   "metadata": {
    "colab": {
     "base_uri": "https://localhost:8080/",
     "height": 331
    },
    "id": "Sg2qbReD1mvF",
    "outputId": "7fe70e66-d919-49f3-ff41-fc97d7db7eae"
   },
   "outputs": [
    {
     "name": "stdout",
     "output_type": "stream",
     "text": [
      "0    30304\n",
      "1     2091\n",
      "Name: default_12m, dtype: int64\n"
     ]
    },
    {
     "data": {
      "text/plain": [
       "<AxesSubplot:>"
      ]
     },
     "execution_count": 9,
     "metadata": {},
     "output_type": "execute_result"
    },
    {
     "data": {
      "image/png": "[encoded data removed]",
      "text/plain": [
       "<Figure size 432x288 with 1 Axes>"
      ]
     },
     "metadata": {
      "needs_background": "light"
     },
     "output_type": "display_data"
    }
   ],
   "source": [
    "print(train_df.default_12m.value_counts())\n",
    "train_df.default_12m.value_counts().plot.bar()"
   ]
  },
  {
   "cell_type": "markdown",
   "metadata": {},
   "source": [
    "В задаче явно наблюдается дисбаланс классов  \n",
    "Итоговое предсказание формируется в результате бинаризации вероятностной интерпретации результата модели (по стандарту порог равен 0.5). Однако этот порог можно подобрать.  \n",
    "В итоге будем ориентироваться на ранжирующую способность модели (метрика: roc-auс), из которой можно будет оптимальным образом подобрать порог для разбиения на классы"
   ]
  },
  {
   "cell_type": "code",
   "execution_count": 10,
   "metadata": {
    "colab": {
     "base_uri": "https://localhost:8080/",
     "height": 143
    },
    "id": "O18sC06_2eaj",
    "outputId": "993134ff-960a-44cb-9615-c5852fa02365"
   },
   "outputs": [
    {
     "data": {
      "text/html": [
       "<div>\n",
       "<style scoped>\n",
       "    .dataframe tbody tr th:only-of-type {\n",
       "        vertical-align: middle;\n",
       "    }\n",
       "\n",
       "    .dataframe tbody tr th {\n",
       "        vertical-align: top;\n",
       "    }\n",
       "\n",
       "    .dataframe thead th {\n",
       "        text-align: right;\n",
       "    }\n",
       "</style>\n",
       "<table border=\"1\" class=\"dataframe\">\n",
       "  <thead>\n",
       "    <tr style=\"text-align: right;\">\n",
       "      <th></th>\n",
       "      <th>ul_staff_range</th>\n",
       "    </tr>\n",
       "  </thead>\n",
       "  <tbody>\n",
       "    <tr>\n",
       "      <th>[1-100]</th>\n",
       "      <td>29281</td>\n",
       "    </tr>\n",
       "    <tr>\n",
       "      <th>(100-500]</th>\n",
       "      <td>2757</td>\n",
       "    </tr>\n",
       "    <tr>\n",
       "      <th>&gt; 500</th>\n",
       "      <td>357</td>\n",
       "    </tr>\n",
       "  </tbody>\n",
       "</table>\n",
       "</div>"
      ],
      "text/plain": [
       "           ul_staff_range\n",
       "[1-100]             29281\n",
       "(100-500]            2757\n",
       "> 500                 357"
      ]
     },
     "execution_count": 10,
     "metadata": {},
     "output_type": "execute_result"
    }
   ],
   "source": [
    "train_df.select_dtypes('object').apply(pd.Series.value_counts, axis = 0)"
   ]
  },
  {
   "cell_type": "code",
   "execution_count": 11,
   "metadata": {
    "colab": {
     "base_uri": "https://localhost:8080/",
     "height": 297
    },
    "id": "Djhj9WkY5U9I",
    "outputId": "0e945d50-ca91-4280-dafc-a58b7edf4531"
   },
   "outputs": [
    {
     "data": {
      "text/plain": [
       "<AxesSubplot:xlabel='ul_staff_range', ylabel='count'>"
      ]
     },
     "execution_count": 11,
     "metadata": {},
     "output_type": "execute_result"
    },
    {
     "data": {
      "image/png": "[encoded data removed]",
      "text/plain": [
       "<Figure size 432x288 with 1 Axes>"
      ]
     },
     "metadata": {
      "needs_background": "light"
     },
     "output_type": "display_data"
    }
   ],
   "source": [
    "sns.countplot('ul_staff_range', data=train_df, hue='default_12m')"
   ]
  },
  {
   "cell_type": "code",
   "execution_count": 12,
   "metadata": {
    "colab": {
     "base_uri": "https://localhost:8080/"
    },
    "id": "jpa2JeT8lhfL",
    "outputId": "3ba54aa8-bc33-4137-ad3c-f3d136363af8"
   },
   "outputs": [
    {
     "name": "stdout",
     "output_type": "stream",
     "text": [
      "perc of def in [1-100] : 6.89 %\n",
      "perc of def in (100-500] : 2.47 %\n",
      "perc of def in > 500 : 1.96 %\n"
     ]
    }
   ],
   "source": [
    "# В группе (1-100) выше процент дефолта\n",
    "for bin_ in train_df.ul_staff_range.unique():\n",
    "    perc = len(train_df[(train_df.ul_staff_range == bin_) & (train_df.default_12m == 1)]) / len(train_df[train_df.ul_staff_range == bin_]) * 100\n",
    "    print('perc of def in {} : {} %'.format(bin_, round(perc, 2)))"
   ]
  },
  {
   "cell_type": "code",
   "execution_count": 13,
   "metadata": {
    "id": "6Mx9RYUNypd7"
   },
   "outputs": [],
   "source": [
    "def miss_vals(df):\n",
    "    mis_stat = df.isna().sum()\n",
    "    perc_of_mis = round(mis_stat / len(df) * 100, 2)\n",
    "    frame = pd.concat([mis_stat, perc_of_mis], axis=1)\n",
    "    frame = frame.rename(columns={0: 'total', 1: 'perc_of_total'})\n",
    "    frame = frame.sort_values(by=['perc_of_total'], ascending=False)[frame.perc_of_total > 0]\n",
    "    print(f'num of mis cols: {frame.shape[0]}')\n",
    "    return frame"
   ]
  },
  {
   "cell_type": "code",
   "execution_count": 14,
   "metadata": {
    "colab": {
     "base_uri": "https://localhost:8080/",
     "height": 819
    },
    "id": "oZsq3EK107LW",
    "outputId": "61643db2-ba0a-4203-a765-bb60cbf49cd8"
   },
   "outputs": [
    {
     "name": "stdout",
     "output_type": "stream",
     "text": [
      "num of mis cols: 24\n"
     ]
    },
    {
     "data": {
      "text/html": [
       "<div>\n",
       "<style scoped>\n",
       "    .dataframe tbody tr th:only-of-type {\n",
       "        vertical-align: middle;\n",
       "    }\n",
       "\n",
       "    .dataframe tbody tr th {\n",
       "        vertical-align: top;\n",
       "    }\n",
       "\n",
       "    .dataframe thead th {\n",
       "        text-align: right;\n",
       "    }\n",
       "</style>\n",
       "<table border=\"1\" class=\"dataframe\">\n",
       "  <thead>\n",
       "    <tr style=\"text-align: right;\">\n",
       "      <th></th>\n",
       "      <th>total</th>\n",
       "      <th>perc_of_total</th>\n",
       "    </tr>\n",
       "  </thead>\n",
       "  <tbody>\n",
       "    <tr>\n",
       "      <th>ab_losses</th>\n",
       "      <td>15145</td>\n",
       "      <td>46.75</td>\n",
       "    </tr>\n",
       "    <tr>\n",
       "      <th>ab_mobile_current_assets</th>\n",
       "      <td>15145</td>\n",
       "      <td>46.75</td>\n",
       "    </tr>\n",
       "    <tr>\n",
       "      <th>ab_other_borrowings</th>\n",
       "      <td>15145</td>\n",
       "      <td>46.75</td>\n",
       "    </tr>\n",
       "    <tr>\n",
       "      <th>ab_accounts_payable</th>\n",
       "      <td>15145</td>\n",
       "      <td>46.75</td>\n",
       "    </tr>\n",
       "    <tr>\n",
       "      <th>ab_short_term_borrowing</th>\n",
       "      <td>15145</td>\n",
       "      <td>46.75</td>\n",
       "    </tr>\n",
       "    <tr>\n",
       "      <th>ab_long_term_liabilities</th>\n",
       "      <td>15145</td>\n",
       "      <td>46.75</td>\n",
       "    </tr>\n",
       "    <tr>\n",
       "      <th>ab_borrowed_capital</th>\n",
       "      <td>15145</td>\n",
       "      <td>46.75</td>\n",
       "    </tr>\n",
       "    <tr>\n",
       "      <th>ab_own_capital</th>\n",
       "      <td>15145</td>\n",
       "      <td>46.75</td>\n",
       "    </tr>\n",
       "    <tr>\n",
       "      <th>ar_revenue</th>\n",
       "      <td>15145</td>\n",
       "      <td>46.75</td>\n",
       "    </tr>\n",
       "    <tr>\n",
       "      <th>ab_cash_and_securities</th>\n",
       "      <td>15145</td>\n",
       "      <td>46.75</td>\n",
       "    </tr>\n",
       "    <tr>\n",
       "      <th>ab_other_current_assets</th>\n",
       "      <td>15145</td>\n",
       "      <td>46.75</td>\n",
       "    </tr>\n",
       "    <tr>\n",
       "      <th>ab_inventory</th>\n",
       "      <td>15145</td>\n",
       "      <td>46.75</td>\n",
       "    </tr>\n",
       "    <tr>\n",
       "      <th>ab_accounts_receivable</th>\n",
       "      <td>15145</td>\n",
       "      <td>46.75</td>\n",
       "    </tr>\n",
       "    <tr>\n",
       "      <th>ab_immobilized_assets</th>\n",
       "      <td>15145</td>\n",
       "      <td>46.75</td>\n",
       "    </tr>\n",
       "    <tr>\n",
       "      <th>ar_sale_profit</th>\n",
       "      <td>15145</td>\n",
       "      <td>46.75</td>\n",
       "    </tr>\n",
       "    <tr>\n",
       "      <th>ar_total_expenses</th>\n",
       "      <td>15145</td>\n",
       "      <td>46.75</td>\n",
       "    </tr>\n",
       "    <tr>\n",
       "      <th>ar_sale_cost</th>\n",
       "      <td>15145</td>\n",
       "      <td>46.75</td>\n",
       "    </tr>\n",
       "    <tr>\n",
       "      <th>ar_selling_expenses</th>\n",
       "      <td>15145</td>\n",
       "      <td>46.75</td>\n",
       "    </tr>\n",
       "    <tr>\n",
       "      <th>ar_net_profit</th>\n",
       "      <td>15145</td>\n",
       "      <td>46.75</td>\n",
       "    </tr>\n",
       "    <tr>\n",
       "      <th>ar_management_expenses</th>\n",
       "      <td>15145</td>\n",
       "      <td>46.75</td>\n",
       "    </tr>\n",
       "    <tr>\n",
       "      <th>ar_balance_of_rvns_and_expns</th>\n",
       "      <td>15145</td>\n",
       "      <td>46.75</td>\n",
       "    </tr>\n",
       "    <tr>\n",
       "      <th>ar_profit_before_tax</th>\n",
       "      <td>15145</td>\n",
       "      <td>46.75</td>\n",
       "    </tr>\n",
       "    <tr>\n",
       "      <th>ar_taxes</th>\n",
       "      <td>15145</td>\n",
       "      <td>46.75</td>\n",
       "    </tr>\n",
       "    <tr>\n",
       "      <th>ar_other_profit_and_losses</th>\n",
       "      <td>15145</td>\n",
       "      <td>46.75</td>\n",
       "    </tr>\n",
       "  </tbody>\n",
       "</table>\n",
       "</div>"
      ],
      "text/plain": [
       "                              total  perc_of_total\n",
       "ab_losses                     15145          46.75\n",
       "ab_mobile_current_assets      15145          46.75\n",
       "ab_other_borrowings           15145          46.75\n",
       "ab_accounts_payable           15145          46.75\n",
       "ab_short_term_borrowing       15145          46.75\n",
       "ab_long_term_liabilities      15145          46.75\n",
       "ab_borrowed_capital           15145          46.75\n",
       "ab_own_capital                15145          46.75\n",
       "ar_revenue                    15145          46.75\n",
       "ab_cash_and_securities        15145          46.75\n",
       "ab_other_current_assets       15145          46.75\n",
       "ab_inventory                  15145          46.75\n",
       "ab_accounts_receivable        15145          46.75\n",
       "ab_immobilized_assets         15145          46.75\n",
       "ar_sale_profit                15145          46.75\n",
       "ar_total_expenses             15145          46.75\n",
       "ar_sale_cost                  15145          46.75\n",
       "ar_selling_expenses           15145          46.75\n",
       "ar_net_profit                 15145          46.75\n",
       "ar_management_expenses        15145          46.75\n",
       "ar_balance_of_rvns_and_expns  15145          46.75\n",
       "ar_profit_before_tax          15145          46.75\n",
       "ar_taxes                      15145          46.75\n",
       "ar_other_profit_and_losses    15145          46.75"
      ]
     },
     "execution_count": 14,
     "metadata": {},
     "output_type": "execute_result"
    }
   ],
   "source": [
    "#везде одинаковый процент пропусков в данных, близко к 50%\n",
    "mis_cols = miss_vals(train_df)\n",
    "mis_cols"
   ]
  },
  {
   "cell_type": "code",
   "execution_count": 15,
   "metadata": {
    "id": "9dCEmBGHnbKa"
   },
   "outputs": [],
   "source": [
    "# посмотрим на распределения таргета отдельно для id с NaN и без\n",
    "without_na = train_df.dropna(axis='index', how='any')\n",
    "with_na = train_df.iloc[list(set(train_df.index) -  set(without_na.index))]"
   ]
  },
  {
   "cell_type": "code",
   "execution_count": 16,
   "metadata": {
    "colab": {
     "base_uri": "https://localhost:8080/",
     "height": 331
    },
    "id": "2KInWEFMn2JW",
    "outputId": "fb4dbf88-8d2b-44e1-8e42-35d3e0c82e72"
   },
   "outputs": [
    {
     "name": "stdout",
     "output_type": "stream",
     "text": [
      "0    91.45\n",
      "1     8.55\n",
      "Name: default_12m, dtype: float64\n"
     ]
    },
    {
     "data": {
      "text/plain": [
       "<AxesSubplot:>"
      ]
     },
     "execution_count": 16,
     "metadata": {},
     "output_type": "execute_result"
    },
    {
     "data": {
      "image/png": "[encoded data removed]",
      "text/plain": [
       "<Figure size 432x288 with 1 Axes>"
      ]
     },
     "metadata": {
      "needs_background": "light"
     },
     "output_type": "display_data"
    }
   ],
   "source": [
    "print(round(with_na.default_12m.value_counts() / len(with_na) * 100, 2))\n",
    "with_na.default_12m.value_counts().plot.bar()"
   ]
  },
  {
   "cell_type": "code",
   "execution_count": 17,
   "metadata": {
    "colab": {
     "base_uri": "https://localhost:8080/",
     "height": 331
    },
    "id": "jX8hL4bMp4Fc",
    "outputId": "58772c03-8129-4cdb-8aeb-aebd8486e061"
   },
   "outputs": [
    {
     "name": "stdout",
     "output_type": "stream",
     "text": [
      "0    95.0\n",
      "1     5.0\n",
      "Name: default_12m, dtype: float64 2\n"
     ]
    },
    {
     "data": {
      "text/plain": [
       "<AxesSubplot:>"
      ]
     },
     "execution_count": 17,
     "metadata": {},
     "output_type": "execute_result"
    },
    {
     "data": {
      "image/png": "[encoded data removed]",
      "text/plain": [
       "<Figure size 432x288 with 1 Axes>"
      ]
     },
     "metadata": {
      "needs_background": "light"
     },
     "output_type": "display_data"
    }
   ],
   "source": [
    "print(round(without_na.default_12m.value_counts() / len(without_na) * 100), 2)\n",
    "without_na.default_12m.value_counts().plot.bar()"
   ]
  },
  {
   "cell_type": "markdown",
   "metadata": {
    "id": "yE2Zq6pJtOPb"
   },
   "source": [
    "Процент компаний, ушедших в дефолт с NaN больше"
   ]
  },
  {
   "cell_type": "code",
   "execution_count": 18,
   "metadata": {
    "colab": {
     "base_uri": "https://localhost:8080/"
    },
    "id": "rX3gqGQWJy6I",
    "outputId": "a869f8c8-1c7a-4c0b-b7bf-d8833b5aa581"
   },
   "outputs": [
    {
     "data": {
      "text/plain": [
       "['ul_systematizing_flg']"
      ]
     },
     "execution_count": 18,
     "metadata": {},
     "output_type": "execute_result"
    }
   ],
   "source": [
    "# признаки с константым значением\n",
    "full_cols = set(train_df.columns) - set(list(mis_cols.index) + ['default_12m', 'record_id'])\n",
    "const = train_df[full_cols].nunique()[train_df[full_cols].nunique() == 1].index.tolist()\n",
    "const"
   ]
  },
  {
   "cell_type": "code",
   "execution_count": 19,
   "metadata": {},
   "outputs": [
    {
     "data": {
      "text/plain": [
       "0    32392\n",
       "1        3\n",
       "Name: ul_strategic_flg, dtype: int64"
      ]
     },
     "execution_count": 19,
     "metadata": {},
     "output_type": "execute_result"
    }
   ],
   "source": [
    "# не информативный признак\n",
    "train_df.ul_strategic_flg.value_counts()"
   ]
  },
  {
   "cell_type": "code",
   "execution_count": 20,
   "metadata": {},
   "outputs": [],
   "source": [
    "not_info = ['ul_strategic_flg']"
   ]
  },
  {
   "cell_type": "code",
   "execution_count": 21,
   "metadata": {
    "colab": {
     "base_uri": "https://localhost:8080/"
    },
    "id": "AcXRC92YINDj",
    "outputId": "6b8a7dd8-d39f-4a1e-ba22-75bed427ae36"
   },
   "outputs": [
    {
     "data": {
      "text/plain": [
       "default_12m                     1.000000\n",
       "ar_balance_of_rvns_and_expns    0.005408\n",
       "ul_strategic_flg               -0.002528\n",
       "record_id                      -0.002880\n",
       "ab_long_term_liabilities       -0.006409\n",
       "ab_other_current_assets        -0.009262\n",
       "ar_management_expenses         -0.009482\n",
       "ab_other_borrowings            -0.011478\n",
       "ar_other_profit_and_losses     -0.011694\n",
       "ab_short_term_borrowing        -0.011695\n",
       "ul_branch_cnt                  -0.014410\n",
       "ab_cash_and_securities         -0.017529\n",
       "ul_capital_sum                 -0.019452\n",
       "ar_selling_expenses            -0.020460\n",
       "ul_founders_cnt                -0.023244\n",
       "ab_borrowed_capital            -0.025285\n",
       "ab_accounts_payable            -0.026061\n",
       "ab_immobilized_assets          -0.026570\n",
       "ab_accounts_receivable         -0.028233\n",
       "ar_net_profit                  -0.030548\n",
       "ar_profit_before_tax           -0.033238\n",
       "ar_sale_profit                 -0.034862\n",
       "ab_inventory                   -0.041404\n",
       "ab_mobile_current_assets       -0.042771\n",
       "ar_taxes                       -0.043877\n",
       "adr_actual_age                 -0.055146\n",
       "head_actual_age                -0.055146\n",
       "cap_actual_age                 -0.055146\n",
       "ar_total_expenses              -0.056062\n",
       "ab_losses                      -0.056214\n",
       "ar_sale_cost                   -0.056660\n",
       "ar_revenue                     -0.059296\n",
       "ab_own_capital                 -0.061210\n",
       "bus_age                        -0.109389\n",
       "ogrn_age                       -0.121140\n",
       "ul_systematizing_flg                 NaN\n",
       "Name: default_12m, dtype: float64"
      ]
     },
     "execution_count": 21,
     "metadata": {},
     "output_type": "execute_result"
    }
   ],
   "source": [
    "#корреляция\n",
    "train_df.corr()['default_12m'].sort_values(ascending=False)"
   ]
  },
  {
   "cell_type": "code",
   "execution_count": 22,
   "metadata": {
    "colab": {
     "base_uri": "https://localhost:8080/",
     "height": 386
    },
    "id": "siETl308dpQo",
    "outputId": "7078408d-826d-40b0-f68a-54cff3ac8b71"
   },
   "outputs": [
    {
     "data": {
      "text/plain": [
       "<seaborn.axisgrid.FacetGrid at 0x24228f2c310>"
      ]
     },
     "execution_count": 22,
     "metadata": {},
     "output_type": "execute_result"
    },
    {
     "data": {
      "image/png": "[encoded data removed]",
      "text/plain": [
       "<Figure size 430.75x360 with 1 Axes>"
      ]
     },
     "metadata": {
      "needs_background": "light"
     },
     "output_type": "display_data"
    }
   ],
   "source": [
    "sns.displot(data=train_df, x=train_df.ar_balance_of_rvns_and_expns, kind='kde', hue ='default_12m')"
   ]
  },
  {
   "cell_type": "code",
   "execution_count": 23,
   "metadata": {
    "colab": {
     "base_uri": "https://localhost:8080/",
     "height": 386
    },
    "id": "-zpH5hZ4giEU",
    "outputId": "4ca08a0a-2cd2-41e4-e253-501781dd7d13"
   },
   "outputs": [
    {
     "data": {
      "text/plain": [
       "<seaborn.axisgrid.FacetGrid at 0x242291e1790>"
      ]
     },
     "execution_count": 23,
     "metadata": {},
     "output_type": "execute_result"
    },
    {
     "data": {
      "image/png": "[encoded data removed]",
      "text/plain": [
       "<Figure size 430.75x360 with 1 Axes>"
      ]
     },
     "metadata": {
      "needs_background": "light"
     },
     "output_type": "display_data"
    }
   ],
   "source": [
    "sns.displot(data=train_df, x=train_df.ogrn_age, kind='kde', hue ='default_12m')"
   ]
  },
  {
   "cell_type": "code",
   "execution_count": 24,
   "metadata": {
    "id": "qm_5VIAxytHj"
   },
   "outputs": [],
   "source": [
    "cols_with_minus_val = []\n",
    "cols_without_minus_val = []\n",
    "for i in train_df.select_dtypes(exclude='object').drop(columns=['default_12m','record_id'] + const + not_info).columns:\n",
    "    if (train_df[i] < 0).sum() > 0:\n",
    "        cols_with_minus_val.append(i)\n",
    "    else:\n",
    "        cols_without_minus_val.append(i)"
   ]
  },
  {
   "cell_type": "code",
   "execution_count": 25,
   "metadata": {
    "colab": {
     "base_uri": "https://localhost:8080/"
    },
    "id": "pnRlzLXIz7DW",
    "outputId": "f4f54feb-32b3-4c74-d923-42f8361d6fd7"
   },
   "outputs": [
    {
     "data": {
      "text/plain": [
       "['ar_total_expenses',\n",
       " 'ar_sale_cost',\n",
       " 'ar_selling_expenses',\n",
       " 'ar_management_expenses',\n",
       " 'ar_sale_profit',\n",
       " 'ar_balance_of_rvns_and_expns',\n",
       " 'ar_profit_before_tax',\n",
       " 'ar_taxes',\n",
       " 'ar_other_profit_and_losses',\n",
       " 'ar_net_profit',\n",
       " 'ab_accounts_receivable',\n",
       " 'ab_other_current_assets',\n",
       " 'ab_losses',\n",
       " 'ab_own_capital',\n",
       " 'ab_long_term_liabilities',\n",
       " 'ab_short_term_borrowing',\n",
       " 'ab_other_borrowings']"
      ]
     },
     "execution_count": 25,
     "metadata": {},
     "output_type": "execute_result"
    }
   ],
   "source": [
    "cols_with_minus_val"
   ]
  },
  {
   "cell_type": "code",
   "execution_count": 26,
   "metadata": {
    "colab": {
     "base_uri": "https://localhost:8080/",
     "height": 738
    },
    "id": "kKEJkF9pwvy-",
    "outputId": "f2d7cbcb-d4cc-4b4d-bb06-bcb7b22a6dd3"
   },
   "outputs": [
    {
     "data": {
      "text/plain": [
       "<seaborn.axisgrid.FacetGrid at 0x2422ade28e0>"
      ]
     },
     "execution_count": 26,
     "metadata": {},
     "output_type": "execute_result"
    },
    {
     "data": {
      "image/png": "[encoded data removed]",
      "text/plain": [
       "<Figure size 360x360 with 1 Axes>"
      ]
     },
     "metadata": {
      "needs_background": "light"
     },
     "output_type": "display_data"
    },
    {
     "data": {
      "image/png": "[encoded data removed]",
      "text/plain": [
       "<Figure size 360x360 with 1 Axes>"
      ]
     },
     "metadata": {
      "needs_background": "light"
     },
     "output_type": "display_data"
    }
   ],
   "source": [
    "# свдиг на константу, чтобы не потерять отрицательные значения\n",
    "sns.displot(train_df.ar_sale_cost, kind='kde')\n",
    "sns.displot(np.log1p(train_df.ar_sale_cost - min(train_df.ar_sale_cost)), kind='kde')"
   ]
  },
  {
   "cell_type": "code",
   "execution_count": 27,
   "metadata": {
    "colab": {
     "base_uri": "https://localhost:8080/",
     "height": 738
    },
    "id": "1qGjKSwRxtUC",
    "outputId": "b676c005-b5c7-470e-e823-ba53f7bf7a47"
   },
   "outputs": [
    {
     "data": {
      "text/plain": [
       "<seaborn.axisgrid.FacetGrid at 0x2422aec28b0>"
      ]
     },
     "execution_count": 27,
     "metadata": {},
     "output_type": "execute_result"
    },
    {
     "data": {
      "image/png": "[encoded data removed]",
      "text/plain": [
       "<Figure size 360x360 with 1 Axes>"
      ]
     },
     "metadata": {
      "needs_background": "light"
     },
     "output_type": "display_data"
    },
    {
     "data": {
      "image/png": "[encoded data removed]",
      "text/plain": [
       "<Figure size 360x360 with 1 Axes>"
      ]
     },
     "metadata": {
      "needs_background": "light"
     },
     "output_type": "display_data"
    }
   ],
   "source": [
    "sns.displot(train_df.ab_losses, kind='kde')\n",
    "sns.displot(np.log1p(train_df.ab_losses - min(train_df.ab_losses)), kind='kde')"
   ]
  },
  {
   "cell_type": "code",
   "execution_count": 28,
   "metadata": {
    "colab": {
     "base_uri": "https://localhost:8080/"
    },
    "id": "BvhE0G9_z9Me",
    "outputId": "21f8c942-c934-4c16-fffa-aebf6993e5ad"
   },
   "outputs": [
    {
     "data": {
      "text/plain": [
       "['ar_revenue',\n",
       " 'ab_immobilized_assets',\n",
       " 'ab_mobile_current_assets',\n",
       " 'ab_inventory',\n",
       " 'ab_cash_and_securities',\n",
       " 'ab_borrowed_capital',\n",
       " 'ab_accounts_payable',\n",
       " 'bus_age',\n",
       " 'ogrn_age',\n",
       " 'adr_actual_age',\n",
       " 'head_actual_age',\n",
       " 'cap_actual_age',\n",
       " 'ul_capital_sum',\n",
       " 'ul_founders_cnt',\n",
       " 'ul_branch_cnt']"
      ]
     },
     "execution_count": 28,
     "metadata": {},
     "output_type": "execute_result"
    }
   ],
   "source": [
    "cols_without_minus_val"
   ]
  },
  {
   "cell_type": "code",
   "execution_count": 29,
   "metadata": {
    "colab": {
     "base_uri": "https://localhost:8080/",
     "height": 738
    },
    "id": "97rgHtx20IID",
    "outputId": "6c6484f1-5ac1-4733-909a-20be83cdc720"
   },
   "outputs": [
    {
     "data": {
      "text/plain": [
       "<seaborn.axisgrid.FacetGrid at 0x2422afaa760>"
      ]
     },
     "execution_count": 29,
     "metadata": {},
     "output_type": "execute_result"
    },
    {
     "data": {
      "image/png": "[encoded data removed]",
      "text/plain": [
       "<Figure size 360x360 with 1 Axes>"
      ]
     },
     "metadata": {
      "needs_background": "light"
     },
     "output_type": "display_data"
    },
    {
     "data": {
      "image/png": "[encoded data removed]",
      "text/plain": [
       "<Figure size 360x360 with 1 Axes>"
      ]
     },
     "metadata": {
      "needs_background": "light"
     },
     "output_type": "display_data"
    }
   ],
   "source": [
    "sns.displot(train_df.ar_revenue, kind='kde')\n",
    "sns.displot(np.log1p(train_df.ar_revenue), kind='kde')"
   ]
  },
  {
   "cell_type": "code",
   "execution_count": 30,
   "metadata": {
    "colab": {
     "base_uri": "https://localhost:8080/",
     "height": 738
    },
    "id": "ZCve_Z_K0at1",
    "outputId": "1031925b-f7a3-4c9e-c3ba-83f446ddc38d"
   },
   "outputs": [
    {
     "data": {
      "text/plain": [
       "<seaborn.axisgrid.FacetGrid at 0x2422b06d130>"
      ]
     },
     "execution_count": 30,
     "metadata": {},
     "output_type": "execute_result"
    },
    {
     "data": {
      "image/png": "[encoded data removed]",
      "text/plain": [
       "<Figure size 360x360 with 1 Axes>"
      ]
     },
     "metadata": {
      "needs_background": "light"
     },
     "output_type": "display_data"
    },
    {
     "data": {
      "image/png": "[encoded data removed]",
      "text/plain": [
       "<Figure size 360x360 with 1 Axes>"
      ]
     },
     "metadata": {
      "needs_background": "light"
     },
     "output_type": "display_data"
    }
   ],
   "source": [
    "sns.displot(train_df.ab_borrowed_capital, kind='kde')\n",
    "sns.displot(np.log1p(train_df.ab_borrowed_capital), kind='kde')"
   ]
  },
  {
   "cell_type": "code",
   "execution_count": 31,
   "metadata": {},
   "outputs": [
    {
     "data": {
      "image/png": "[encoded data removed]",
      "text/plain": [
       "<Figure size 1080x1080 with 25 Axes>"
      ]
     },
     "metadata": {
      "needs_background": "light"
     },
     "output_type": "display_data"
    }
   ],
   "source": [
    "train_df[mis_cols.index].hist(figsize=(15, 15))\n",
    "plt.show()"
   ]
  },
  {
   "cell_type": "markdown",
   "metadata": {
    "id": "b2VctTTalUh6"
   },
   "source": [
    "Распределения величин сильно похожи между собой. Есть лишь небольшие отличия в масштабах и сдвигах"
   ]
  },
  {
   "cell_type": "code",
   "execution_count": 32,
   "metadata": {
    "id": "U5pV6gxFhBR-"
   },
   "outputs": [],
   "source": [
    "# Находим выбросы\n",
    "def detect_outliers(df,n,features):\n",
    "\n",
    "    outlier_indices = []\n",
    "    \n",
    "    for col in features:\n",
    "        Q1 = np.percentile(df[col], 25)\n",
    "        Q3 = np.percentile(df[col],75)\n",
    "        IQR = Q3 - Q1\n",
    "        \n",
    "        outlier_step = 1.5 * IQR\n",
    "        \n",
    "        outlier_list_col = df[(df[col] < Q1 - outlier_step) | (df[col] > Q3 + outlier_step )].index\n",
    "        \n",
    "        outlier_indices.extend(outlier_list_col)\n",
    "    outlier_indices = Counter(outlier_indices)\n",
    "    multiple_outliers = list( k for k, v in outlier_indices.items() if v > n )\n",
    "    \n",
    "    return multiple_outliers "
   ]
  },
  {
   "cell_type": "code",
   "execution_count": 33,
   "metadata": {
    "id": "Ff7a11sihvs8"
   },
   "outputs": [],
   "source": [
    "outliers = detect_outliers(train_df, 2, train_df.select_dtypes(exclude='object').drop(columns=['default_12m','record_id'] + const).columns.tolist())"
   ]
  },
  {
   "cell_type": "code",
   "execution_count": 34,
   "metadata": {
    "colab": {
     "base_uri": "https://localhost:8080/"
    },
    "id": "q28-Ez8AkQK5",
    "outputId": "789a64f8-d9da-4a2d-896a-35eccdc21989"
   },
   "outputs": [
    {
     "data": {
      "text/plain": [
       "35"
      ]
     },
     "execution_count": 34,
     "metadata": {},
     "output_type": "execute_result"
    }
   ],
   "source": [
    "len(outliers)"
   ]
  },
  {
   "cell_type": "code",
   "execution_count": 35,
   "metadata": {},
   "outputs": [],
   "source": [
    "train_df = train_df.drop(outliers, axis=0)"
   ]
  },
  {
   "cell_type": "code",
   "execution_count": 36,
   "metadata": {},
   "outputs": [],
   "source": [
    "# После заполнения пропусков медианным значением распределения изменяются не сильно\n",
    "def fill_na(train_df, test_df, cols):\n",
    "    for col in cols:\n",
    "         train_df[col].fillna(train_df[col].median(), inplace=True)\n",
    "         test_df[col].fillna(train_df[col].median(), inplace=True)"
   ]
  },
  {
   "cell_type": "code",
   "execution_count": 37,
   "metadata": {},
   "outputs": [],
   "source": [
    "fill_na(train_df, test_df, mis_cols.index)"
   ]
  },
  {
   "cell_type": "code",
   "execution_count": 38,
   "metadata": {},
   "outputs": [
    {
     "data": {
      "image/png": "[encoded data removed]",
      "text/plain": [
       "<Figure size 1080x1080 with 25 Axes>"
      ]
     },
     "metadata": {
      "needs_background": "light"
     },
     "output_type": "display_data"
    }
   ],
   "source": [
    "train_df[mis_cols.index].hist(figsize=(15, 15))\n",
    "plt.show()"
   ]
  },
  {
   "cell_type": "markdown",
   "metadata": {
    "id": "t_ai6hY9k7YB"
   },
   "source": [
    "# Feauture extraction & engineering"
   ]
  },
  {
   "cell_type": "code",
   "execution_count": 39,
   "metadata": {},
   "outputs": [],
   "source": [
    "feats_to_drop =  ['record_id'] + const + not_info"
   ]
  },
  {
   "cell_type": "code",
   "execution_count": 40,
   "metadata": {},
   "outputs": [],
   "source": [
    "# Добавим некоторые фичи, исходя из их описания\n",
    "def add_feats(df):\n",
    "    df['sale/revenue'] = df['ar_sale_profit'] / (df['ar_revenue'] + 1e-10)\n",
    "    df['cap/found'] = df['ul_capital_sum'] / df['ul_founders_cnt']\n",
    "    df['inv/cap'] = df['ab_inventory'] / (df['ab_own_capital'] + 1e-10)\n",
    "    df['taxes/profit'] = df['ar_taxes'] / (df['ar_sale_profit'] + 1e-10)\n",
    "    return df"
   ]
  },
  {
   "cell_type": "code",
   "execution_count": 41,
   "metadata": {},
   "outputs": [],
   "source": [
    "X_train = add_feats(train_df.drop(columns=['default_12m']))\n",
    "y_train = train_df.default_12m\n",
    "X_test = add_feats(test_df)"
   ]
  },
  {
   "cell_type": "code",
   "execution_count": 42,
   "metadata": {},
   "outputs": [],
   "source": [
    "# Для линейных моделей важно избавиться от мультиколлинеарности фичей\n",
    "def get_multicor(df, correlation_threshold=0.7):\n",
    "    corr_matrix = df.corr()\n",
    "    # Выделяем верхний треугольник матрицы корреляции\n",
    "    upper = corr_matrix.where(np.triu(np.ones(corr_matrix.shape), k = 1).astype(np.bool))\n",
    "        \n",
    "    # Выбираем фичи с корреляцией выше порога\n",
    "    # Используем абсолютную величину\n",
    "    to_drop = [column for column in upper.columns if any(upper[column].abs() > correlation_threshold)]\n",
    "\n",
    "    \n",
    "    record_collinear = pd.DataFrame(columns = ['drop_feature', 'corr_feature', 'corr_value'])\n",
    "\n",
    "    # Итерируемся по столбцам, чтобы записать пары коррелирующих признаков\n",
    "    for column in to_drop:\n",
    "\n",
    "        # Находим коррелирующие фичи\n",
    "        corr_features = list(upper.index[upper[column].abs() > correlation_threshold])\n",
    "\n",
    "        # Находим значения\n",
    "        corr_values = list(upper[column][upper[column].abs() > correlation_threshold])\n",
    "        drop_features = [column for _ in range(len(corr_features))]    \n",
    "\n",
    "        \n",
    "        temp_df = pd.DataFrame.from_dict({'drop_feature': drop_features,\n",
    "                                         'corr_feature': corr_features,\n",
    "                                         'corr_value': corr_values})\n",
    "\n",
    "        \n",
    "        record_collinear = record_collinear.append(temp_df, ignore_index = True)\n",
    "    return record_collinear"
   ]
  },
  {
   "cell_type": "code",
   "execution_count": 43,
   "metadata": {},
   "outputs": [
    {
     "data": {
      "text/html": [
       "<div>\n",
       "<style scoped>\n",
       "    .dataframe tbody tr th:only-of-type {\n",
       "        vertical-align: middle;\n",
       "    }\n",
       "\n",
       "    .dataframe tbody tr th {\n",
       "        vertical-align: top;\n",
       "    }\n",
       "\n",
       "    .dataframe thead th {\n",
       "        text-align: right;\n",
       "    }\n",
       "</style>\n",
       "<table border=\"1\" class=\"dataframe\">\n",
       "  <thead>\n",
       "    <tr style=\"text-align: right;\">\n",
       "      <th></th>\n",
       "      <th>drop_feature</th>\n",
       "      <th>corr_feature</th>\n",
       "      <th>corr_value</th>\n",
       "    </tr>\n",
       "  </thead>\n",
       "  <tbody>\n",
       "    <tr>\n",
       "      <th>0</th>\n",
       "      <td>ar_total_expenses</td>\n",
       "      <td>ar_revenue</td>\n",
       "      <td>0.989339</td>\n",
       "    </tr>\n",
       "    <tr>\n",
       "      <th>1</th>\n",
       "      <td>ar_sale_cost</td>\n",
       "      <td>ar_revenue</td>\n",
       "      <td>0.984861</td>\n",
       "    </tr>\n",
       "    <tr>\n",
       "      <th>2</th>\n",
       "      <td>ar_sale_cost</td>\n",
       "      <td>ar_total_expenses</td>\n",
       "      <td>0.994296</td>\n",
       "    </tr>\n",
       "    <tr>\n",
       "      <th>3</th>\n",
       "      <td>ar_profit_before_tax</td>\n",
       "      <td>ar_sale_profit</td>\n",
       "      <td>0.952724</td>\n",
       "    </tr>\n",
       "    <tr>\n",
       "      <th>4</th>\n",
       "      <td>ar_net_profit</td>\n",
       "      <td>ar_sale_profit</td>\n",
       "      <td>0.944848</td>\n",
       "    </tr>\n",
       "    <tr>\n",
       "      <th>5</th>\n",
       "      <td>ar_net_profit</td>\n",
       "      <td>ar_profit_before_tax</td>\n",
       "      <td>0.996676</td>\n",
       "    </tr>\n",
       "    <tr>\n",
       "      <th>6</th>\n",
       "      <td>ab_inventory</td>\n",
       "      <td>ab_mobile_current_assets</td>\n",
       "      <td>0.798152</td>\n",
       "    </tr>\n",
       "    <tr>\n",
       "      <th>7</th>\n",
       "      <td>ab_accounts_receivable</td>\n",
       "      <td>ab_mobile_current_assets</td>\n",
       "      <td>0.811005</td>\n",
       "    </tr>\n",
       "    <tr>\n",
       "      <th>8</th>\n",
       "      <td>ab_own_capital</td>\n",
       "      <td>ab_immobilized_assets</td>\n",
       "      <td>0.769588</td>\n",
       "    </tr>\n",
       "    <tr>\n",
       "      <th>9</th>\n",
       "      <td>ab_borrowed_capital</td>\n",
       "      <td>ab_mobile_current_assets</td>\n",
       "      <td>0.856956</td>\n",
       "    </tr>\n",
       "    <tr>\n",
       "      <th>10</th>\n",
       "      <td>ab_borrowed_capital</td>\n",
       "      <td>ab_inventory</td>\n",
       "      <td>0.713541</td>\n",
       "    </tr>\n",
       "    <tr>\n",
       "      <th>11</th>\n",
       "      <td>ab_accounts_payable</td>\n",
       "      <td>ab_mobile_current_assets</td>\n",
       "      <td>0.749199</td>\n",
       "    </tr>\n",
       "    <tr>\n",
       "      <th>12</th>\n",
       "      <td>ab_accounts_payable</td>\n",
       "      <td>ab_borrowed_capital</td>\n",
       "      <td>0.823987</td>\n",
       "    </tr>\n",
       "    <tr>\n",
       "      <th>13</th>\n",
       "      <td>ogrn_age</td>\n",
       "      <td>bus_age</td>\n",
       "      <td>0.859262</td>\n",
       "    </tr>\n",
       "    <tr>\n",
       "      <th>14</th>\n",
       "      <td>head_actual_age</td>\n",
       "      <td>adr_actual_age</td>\n",
       "      <td>1.0</td>\n",
       "    </tr>\n",
       "    <tr>\n",
       "      <th>15</th>\n",
       "      <td>cap_actual_age</td>\n",
       "      <td>adr_actual_age</td>\n",
       "      <td>1.0</td>\n",
       "    </tr>\n",
       "    <tr>\n",
       "      <th>16</th>\n",
       "      <td>cap_actual_age</td>\n",
       "      <td>head_actual_age</td>\n",
       "      <td>1.0</td>\n",
       "    </tr>\n",
       "  </tbody>\n",
       "</table>\n",
       "</div>"
      ],
      "text/plain": [
       "              drop_feature              corr_feature corr_value\n",
       "0        ar_total_expenses                ar_revenue   0.989339\n",
       "1             ar_sale_cost                ar_revenue   0.984861\n",
       "2             ar_sale_cost         ar_total_expenses   0.994296\n",
       "3     ar_profit_before_tax            ar_sale_profit   0.952724\n",
       "4            ar_net_profit            ar_sale_profit   0.944848\n",
       "5            ar_net_profit      ar_profit_before_tax   0.996676\n",
       "6             ab_inventory  ab_mobile_current_assets   0.798152\n",
       "7   ab_accounts_receivable  ab_mobile_current_assets   0.811005\n",
       "8           ab_own_capital     ab_immobilized_assets   0.769588\n",
       "9      ab_borrowed_capital  ab_mobile_current_assets   0.856956\n",
       "10     ab_borrowed_capital              ab_inventory   0.713541\n",
       "11     ab_accounts_payable  ab_mobile_current_assets   0.749199\n",
       "12     ab_accounts_payable       ab_borrowed_capital   0.823987\n",
       "13                ogrn_age                   bus_age   0.859262\n",
       "14         head_actual_age            adr_actual_age        1.0\n",
       "15          cap_actual_age            adr_actual_age        1.0\n",
       "16          cap_actual_age           head_actual_age        1.0"
      ]
     },
     "execution_count": 43,
     "metadata": {},
     "output_type": "execute_result"
    }
   ],
   "source": [
    "get_multicor(train_df.drop(columns=feats_to_drop), correlation_threshold=0.7)"
   ]
  },
  {
   "cell_type": "code",
   "execution_count": 44,
   "metadata": {},
   "outputs": [],
   "source": [
    "multi_cor_feats = get_multicor(train_df.drop(columns=feats_to_drop))['drop_feature'].tolist()"
   ]
  },
  {
   "cell_type": "code",
   "execution_count": 45,
   "metadata": {
    "id": "F2WsYvY41-Pu"
   },
   "outputs": [],
   "source": [
    "all_feats_to_drop = feats_to_drop + multi_cor_feats"
   ]
  },
  {
   "cell_type": "code",
   "execution_count": 46,
   "metadata": {},
   "outputs": [],
   "source": [
    "X_train = X_train.drop(columns=all_feats_to_drop, axis=1)\n",
    "X_test = X_test.drop(columns=all_feats_to_drop, axis=1)"
   ]
  },
  {
   "cell_type": "code",
   "execution_count": 47,
   "metadata": {},
   "outputs": [],
   "source": [
    "# Добавим квадратичные фичи\n",
    "def polynom_feats(df):\n",
    "    for col in df.drop(columns=['ul_staff_range']).columns:\n",
    "        df[f'{col}**2'] = df[col] ** 2\n",
    "    return df"
   ]
  },
  {
   "cell_type": "code",
   "execution_count": 48,
   "metadata": {},
   "outputs": [],
   "source": [
    "X_train = polynom_feats(X_train)\n",
    "X_test = polynom_feats(X_test)"
   ]
  },
  {
   "cell_type": "code",
   "execution_count": 49,
   "metadata": {},
   "outputs": [
    {
     "data": {
      "text/plain": [
       "LGBMClassifier(random_state=69)"
      ]
     },
     "execution_count": 49,
     "metadata": {},
     "output_type": "execute_result"
    }
   ],
   "source": [
    "# Отберем фичи, оказавшиеся малоинформативными для моделей с близкой к нулю важностью\n",
    "# Для этого добавим колонку с кумулятивной суммой по важности фичей, порог важности выбирается эмпирически\n",
    "cat_feats = X_train.drop(columns=['ul_staff_range']).select_dtypes(include='object').columns\n",
    "num_feats = X_train.drop(columns=['ul_staff_range']).select_dtypes(exclude='object').columns\n",
    "\n",
    "sc = StandardScaler()\n",
    "transf = PowerTransformer(method='yeo-johnson')\n",
    "numeric_transformer = Pipeline(steps=[('transf', transf), ('scaler', sc)])\n",
    "cat_trans = OneHotEncoder(handle_unknown='ignore')\n",
    "\n",
    "preprocessor = ColumnTransformer(\n",
    "    transformers=[('numeric', numeric_transformer, num_feats),\n",
    "        ('cat', cat_trans, cat_feats)\n",
    "    ])\n",
    "X = preprocessor.fit_transform(X_train.drop(columns=['ul_staff_range']))\n",
    "\n",
    "lg = LGBMClassifier(random_state=69)\n",
    "lg.fit(X, y_train)"
   ]
  },
  {
   "cell_type": "code",
   "execution_count": 50,
   "metadata": {},
   "outputs": [],
   "source": [
    "feat_imp = pd.DataFrame(data={'fi': lg.feature_importances_}, \\\n",
    "                        index=X_train.drop(columns='ul_staff_range', axis=1)\\\n",
    "                        .columns.tolist()).sort_values(by='fi', ascending=False)"
   ]
  },
  {
   "cell_type": "code",
   "execution_count": 51,
   "metadata": {},
   "outputs": [],
   "source": [
    "feat_imp['cum_fi'] = np.cumsum(feat_imp.fi) / sum(feat_imp.fi)"
   ]
  },
  {
   "cell_type": "code",
   "execution_count": 52,
   "metadata": {},
   "outputs": [
    {
     "data": {
      "text/plain": [
       "<AxesSubplot:xlabel='fi'>"
      ]
     },
     "execution_count": 52,
     "metadata": {},
     "output_type": "execute_result"
    },
    {
     "data": {
      "image/png": "[encoded data removed]",
      "text/plain": [
       "<Figure size 432x288 with 1 Axes>"
      ]
     },
     "metadata": {
      "needs_background": "light"
     },
     "output_type": "display_data"
    }
   ],
   "source": [
    "# топ 20 фичей\n",
    "sns.barplot(feat_imp[~(feat_imp.cum_fi > 0.99)].fi[:20], feat_imp[~(feat_imp.cum_fi > 0.99)].index[:20])"
   ]
  },
  {
   "cell_type": "code",
   "execution_count": 53,
   "metadata": {},
   "outputs": [],
   "source": [
    "feat_imp_lgbm_to_drop = feat_imp[feat_imp.cum_fi > 0.99].index.tolist()"
   ]
  },
  {
   "cell_type": "code",
   "execution_count": 54,
   "metadata": {},
   "outputs": [
    {
     "data": {
      "text/plain": [
       "16"
      ]
     },
     "execution_count": 54,
     "metadata": {},
     "output_type": "execute_result"
    }
   ],
   "source": [
    "len(feat_imp_lgbm_to_drop)"
   ]
  },
  {
   "cell_type": "code",
   "execution_count": 55,
   "metadata": {},
   "outputs": [
    {
     "data": {
      "text/plain": [
       "LogisticRegression()"
      ]
     },
     "execution_count": 55,
     "metadata": {},
     "output_type": "execute_result"
    }
   ],
   "source": [
    "log_reg = LogisticRegression()\n",
    "log_reg.fit(X, y_train)"
   ]
  },
  {
   "cell_type": "code",
   "execution_count": 56,
   "metadata": {},
   "outputs": [],
   "source": [
    "feat_imp_lr = pd.DataFrame(data={'weights': np.abs(log_reg.coef_)[0]}, \\\n",
    "                        index=X_train.drop(columns='ul_staff_range', axis=1)\\\n",
    "                        .columns.tolist()).sort_values(by='weights', ascending=False)"
   ]
  },
  {
   "cell_type": "code",
   "execution_count": 57,
   "metadata": {},
   "outputs": [],
   "source": [
    "feat_imp_lr['cum_wieghts'] = np.cumsum(feat_imp_lr.weights) / sum(feat_imp_lr.weights)"
   ]
  },
  {
   "cell_type": "code",
   "execution_count": 58,
   "metadata": {},
   "outputs": [],
   "source": [
    "feat_imp_lr_to_drop = feat_imp_lr[feat_imp_lr.cum_wieghts > 0.99].index.tolist()"
   ]
  },
  {
   "cell_type": "code",
   "execution_count": 59,
   "metadata": {},
   "outputs": [
    {
     "data": {
      "text/plain": [
       "8"
      ]
     },
     "execution_count": 59,
     "metadata": {},
     "output_type": "execute_result"
    }
   ],
   "source": [
    "len(feat_imp_lr_to_drop)"
   ]
  },
  {
   "cell_type": "code",
   "execution_count": 60,
   "metadata": {},
   "outputs": [
    {
     "data": {
      "text/plain": [
       "<AxesSubplot:xlabel='weights'>"
      ]
     },
     "execution_count": 60,
     "metadata": {},
     "output_type": "execute_result"
    },
    {
     "data": {
      "image/png": "[encoded data removed]",
      "text/plain": [
       "<Figure size 432x288 with 1 Axes>"
      ]
     },
     "metadata": {
      "needs_background": "light"
     },
     "output_type": "display_data"
    }
   ],
   "source": [
    "sns.barplot(feat_imp_lr.weights[:20], feat_imp_lr.index[:20])"
   ]
  },
  {
   "cell_type": "code",
   "execution_count": 62,
   "metadata": {},
   "outputs": [
    {
     "data": {
      "text/plain": [
       "{'ar_other_profit_and_losses', 'ul_capital_sum**2'}"
      ]
     },
     "execution_count": 62,
     "metadata": {},
     "output_type": "execute_result"
    }
   ],
   "source": [
    "# Общие менее важные признаки по двум моделям\n",
    "set(feat_imp_lgbm_to_drop) & set(feat_imp_lr_to_drop)"
   ]
  },
  {
   "cell_type": "markdown",
   "metadata": {
    "id": "Qi28h2XTkMVJ"
   },
   "source": [
    "# Modeling"
   ]
  },
  {
   "cell_type": "code",
   "execution_count": 63,
   "metadata": {
    "id": "b6jjkJeB8hRg"
   },
   "outputs": [],
   "source": [
    "rs = 69"
   ]
  },
  {
   "cell_type": "code",
   "execution_count": 64,
   "metadata": {},
   "outputs": [
    {
     "data": {
      "text/plain": [
       "(32360, 49)"
      ]
     },
     "execution_count": 64,
     "metadata": {},
     "output_type": "execute_result"
    }
   ],
   "source": [
    "X_train.shape"
   ]
  },
  {
   "cell_type": "code",
   "execution_count": 65,
   "metadata": {
    "id": "UkIuNsVq1Quy"
   },
   "outputs": [],
   "source": [
    "cat_feats = X_train.select_dtypes(include='object').columns\n",
    "num_feats = X_train.select_dtypes(exclude='object').columns\n",
    "X = X_train\n",
    "y = y_train\n",
    "X_tr, X_val, y_tr, y_val= train_test_split(X, y, test_size=0.2, random_state=rs)"
   ]
  },
  {
   "cell_type": "code",
   "execution_count": 66,
   "metadata": {
    "id": "tYn7JuxU8x-C"
   },
   "outputs": [],
   "source": [
    "# Метрики до отбора по feature_imp\n",
    "res = pd.DataFrame(columns=['Name', 'auc'])\n",
    "\n",
    "sc = StandardScaler()\n",
    "transf = PowerTransformer(method='yeo-johnson')\n",
    "numeric_transformer = Pipeline(steps=[('transf', transf), ('scaler', sc)])\n",
    "cat_trans = OneHotEncoder(handle_unknown='ignore')\n",
    "\n",
    "preprocessor = ColumnTransformer(\n",
    "    transformers=[('numeric', numeric_transformer, num_feats),\n",
    "        ('cat', cat_trans, cat_feats)\n",
    "    ])\n",
    "\n",
    "models = [LGBMClassifier(random_state=rs), CatBoostClassifier(random_state=rs, verbose=False), LogisticRegression()]\n",
    "names = ['LightGBM', 'Catboost', 'LogReg']\n",
    "\n",
    "for model, n  in zip(models, names):\n",
    "    pipe = Pipeline(steps=[('prep', preprocessor), ('model', model)])\n",
    "    kfold = StratifiedKFold(n_splits=4)\n",
    "    score = cross_val_score(pipe, X_tr, y_tr, scoring='roc_auc', cv=kfold).mean()\n",
    "\n",
    "    res = res.append({\n",
    "        'Name' : n, \n",
    "        'auc' : round(score, 4), \n",
    "    }, ignore_index=True)\n",
    "    del pipe"
   ]
  },
  {
   "cell_type": "code",
   "execution_count": 67,
   "metadata": {},
   "outputs": [
    {
     "data": {
      "text/html": [
       "<div>\n",
       "<style scoped>\n",
       "    .dataframe tbody tr th:only-of-type {\n",
       "        vertical-align: middle;\n",
       "    }\n",
       "\n",
       "    .dataframe tbody tr th {\n",
       "        vertical-align: top;\n",
       "    }\n",
       "\n",
       "    .dataframe thead th {\n",
       "        text-align: right;\n",
       "    }\n",
       "</style>\n",
       "<table border=\"1\" class=\"dataframe\">\n",
       "  <thead>\n",
       "    <tr style=\"text-align: right;\">\n",
       "      <th></th>\n",
       "      <th>Name</th>\n",
       "      <th>auc</th>\n",
       "    </tr>\n",
       "  </thead>\n",
       "  <tbody>\n",
       "    <tr>\n",
       "      <th>0</th>\n",
       "      <td>LightGBM</td>\n",
       "      <td>0.7125</td>\n",
       "    </tr>\n",
       "    <tr>\n",
       "      <th>1</th>\n",
       "      <td>Catboost</td>\n",
       "      <td>0.7063</td>\n",
       "    </tr>\n",
       "    <tr>\n",
       "      <th>2</th>\n",
       "      <td>LogReg</td>\n",
       "      <td>0.6859</td>\n",
       "    </tr>\n",
       "  </tbody>\n",
       "</table>\n",
       "</div>"
      ],
      "text/plain": [
       "       Name     auc\n",
       "0  LightGBM  0.7125\n",
       "1  Catboost  0.7063\n",
       "2    LogReg  0.6859"
      ]
     },
     "execution_count": 67,
     "metadata": {},
     "output_type": "execute_result"
    }
   ],
   "source": [
    "res"
   ]
  },
  {
   "cell_type": "code",
   "execution_count": 62,
   "metadata": {},
   "outputs": [
    {
     "data": {
      "text/html": [
       "<div>\n",
       "<style scoped>\n",
       "    .dataframe tbody tr th:only-of-type {\n",
       "        vertical-align: middle;\n",
       "    }\n",
       "\n",
       "    .dataframe tbody tr th {\n",
       "        vertical-align: top;\n",
       "    }\n",
       "\n",
       "    .dataframe thead th {\n",
       "        text-align: right;\n",
       "    }\n",
       "</style>\n",
       "<table border=\"1\" class=\"dataframe\">\n",
       "  <thead>\n",
       "    <tr style=\"text-align: right;\">\n",
       "      <th></th>\n",
       "      <th>Name</th>\n",
       "      <th>auc</th>\n",
       "      <th>auc_test</th>\n",
       "      <th>best_th</th>\n",
       "    </tr>\n",
       "  </thead>\n",
       "  <tbody>\n",
       "    <tr>\n",
       "      <th>0</th>\n",
       "      <td>LightGBM</td>\n",
       "      <td>0.7107</td>\n",
       "      <td>0.7174</td>\n",
       "      <td>0.065296</td>\n",
       "    </tr>\n",
       "    <tr>\n",
       "      <th>1</th>\n",
       "      <td>Catboost</td>\n",
       "      <td>0.7079</td>\n",
       "      <td>0.7189</td>\n",
       "      <td>0.059256</td>\n",
       "    </tr>\n",
       "    <tr>\n",
       "      <th>2</th>\n",
       "      <td>LogReg</td>\n",
       "      <td>0.6865</td>\n",
       "      <td>0.6736</td>\n",
       "      <td>0.065444</td>\n",
       "    </tr>\n",
       "  </tbody>\n",
       "</table>\n",
       "</div>"
      ],
      "text/plain": [
       "       Name     auc auc_test   best_th\n",
       "0  LightGBM  0.7107   0.7174  0.065296\n",
       "1  Catboost  0.7079   0.7189  0.059256\n",
       "2    LogReg  0.6865   0.6736  0.065444"
      ]
     },
     "execution_count": 62,
     "metadata": {},
     "output_type": "execute_result"
    }
   ],
   "source": [
    "res"
   ]
  },
  {
   "cell_type": "markdown",
   "metadata": {},
   "source": [
    "Для линейных моделей, в частности для использования лог-регрессии, необходимо провести нормализацию данных. Выполним преобразование Йео-Джонсона, которое по сути преобразование box-cox, приближающее распределение к нормальному, но расширено на область отрицательных значений. Далее нормируем данные, вычтя среднее и дисперсию. В конце примением one-hot encoding, для категориальной фичи.  \n",
    "\n",
    "Для оценки качества модели, как и говорилось ранее, будем использовать метрику roc-auc на стратифицированной кросс-валидации.\n",
    "Для подбора порога в случае несбалансированной по классам выборки будем использовать геометрическое-среднее $\\sqrt{tpr(1-fpr)}$"
   ]
  },
  {
   "cell_type": "code",
   "execution_count": 68,
   "metadata": {},
   "outputs": [],
   "source": [
    "def fit_val_model(model, name, col_to_drop):\n",
    "    cat_feats = X_train.drop(columns=col_to_drop).select_dtypes(include='object').columns\n",
    "    num_feats = X_train.drop(columns=col_to_drop).select_dtypes(exclude='object').columns\n",
    "    X = X_train.drop(columns=col_to_drop)\n",
    "    y = y_train\n",
    "    X_tr, X_val, y_tr, y_val= train_test_split(X, y, test_size=0.2, random_state=rs)\n",
    "    \n",
    "    res = pd.DataFrame(columns=['Name', 'auc', 'auc_test', 'best_th'])\n",
    "\n",
    "    sc = StandardScaler()\n",
    "    transf = PowerTransformer(method='yeo-johnson')\n",
    "    numeric_transformer = Pipeline(steps=[('transf', transf), ('scaler', sc)])\n",
    "    cat_trans = OneHotEncoder(handle_unknown='ignore')\n",
    "\n",
    "    preprocessor = ColumnTransformer(\n",
    "        transformers=[('numeric', numeric_transformer, num_feats),\n",
    "            ('cat', cat_trans, cat_feats)\n",
    "        ])\n",
    "\n",
    "    models = [model]\n",
    "    names = [name]\n",
    "\n",
    "    for model, n  in zip(models, names):\n",
    "        pipe = Pipeline(steps=[('prep', preprocessor), ('model', model)])\n",
    "        kfold = StratifiedKFold(n_splits=4)\n",
    "        score = cross_val_score(pipe, X_tr, y_tr, scoring='roc_auc', cv=kfold).mean()\n",
    "        pipe.fit(X_tr, y_tr)\n",
    "        y_pred = pipe.predict_proba(X_val)[:, 1]\n",
    "        # Считаем метрику\n",
    "        score_auc = roc_auc_score(y_val, y_pred)\n",
    "        # Строим roc-auc кривую\n",
    "        fpr, tpr, thresholds = roc_curve(y_val, y_pred)\n",
    "        # Считаем гармоническое среднее и находим индекс, соотвествующий максимальному значению g-mean\n",
    "        g_mean_idx = np.argmax(np.sqrt(tpr * (1-fpr)))\n",
    "        # Выбираем порог\n",
    "        bt = thresholds[g_mean_idx]  \n",
    "\n",
    "        res = res.append({\n",
    "            'Name' : n, \n",
    "            'auc' : round(score, 4), \n",
    "            'auc_test' : round(score_auc, 4),\n",
    "            'best_th': bt\n",
    "        }, ignore_index=True)\n",
    "        del pipe\n",
    "    return res"
   ]
  },
  {
   "cell_type": "code",
   "execution_count": 69,
   "metadata": {},
   "outputs": [
    {
     "data": {
      "text/html": [
       "<div>\n",
       "<style scoped>\n",
       "    .dataframe tbody tr th:only-of-type {\n",
       "        vertical-align: middle;\n",
       "    }\n",
       "\n",
       "    .dataframe tbody tr th {\n",
       "        vertical-align: top;\n",
       "    }\n",
       "\n",
       "    .dataframe thead th {\n",
       "        text-align: right;\n",
       "    }\n",
       "</style>\n",
       "<table border=\"1\" class=\"dataframe\">\n",
       "  <thead>\n",
       "    <tr style=\"text-align: right;\">\n",
       "      <th></th>\n",
       "      <th>Name</th>\n",
       "      <th>auc</th>\n",
       "      <th>auc_test</th>\n",
       "      <th>best_th</th>\n",
       "    </tr>\n",
       "  </thead>\n",
       "  <tbody>\n",
       "    <tr>\n",
       "      <th>0</th>\n",
       "      <td>LightGBM</td>\n",
       "      <td>0.7107</td>\n",
       "      <td>0.7174</td>\n",
       "      <td>0.065296</td>\n",
       "    </tr>\n",
       "  </tbody>\n",
       "</table>\n",
       "</div>"
      ],
      "text/plain": [
       "       Name     auc auc_test   best_th\n",
       "0  LightGBM  0.7107   0.7174  0.065296"
      ]
     },
     "execution_count": 69,
     "metadata": {},
     "output_type": "execute_result"
    }
   ],
   "source": [
    "fit_val_model(LGBMClassifier(random_state=rs), 'LightGBM', feat_imp_lgbm_to_drop)"
   ]
  },
  {
   "cell_type": "code",
   "execution_count": 70,
   "metadata": {},
   "outputs": [
    {
     "data": {
      "text/html": [
       "<div>\n",
       "<style scoped>\n",
       "    .dataframe tbody tr th:only-of-type {\n",
       "        vertical-align: middle;\n",
       "    }\n",
       "\n",
       "    .dataframe tbody tr th {\n",
       "        vertical-align: top;\n",
       "    }\n",
       "\n",
       "    .dataframe thead th {\n",
       "        text-align: right;\n",
       "    }\n",
       "</style>\n",
       "<table border=\"1\" class=\"dataframe\">\n",
       "  <thead>\n",
       "    <tr style=\"text-align: right;\">\n",
       "      <th></th>\n",
       "      <th>Name</th>\n",
       "      <th>auc</th>\n",
       "      <th>auc_test</th>\n",
       "      <th>best_th</th>\n",
       "    </tr>\n",
       "  </thead>\n",
       "  <tbody>\n",
       "    <tr>\n",
       "      <th>0</th>\n",
       "      <td>Log_reg</td>\n",
       "      <td>0.6864</td>\n",
       "      <td>0.6741</td>\n",
       "      <td>0.065693</td>\n",
       "    </tr>\n",
       "  </tbody>\n",
       "</table>\n",
       "</div>"
      ],
      "text/plain": [
       "      Name     auc auc_test   best_th\n",
       "0  Log_reg  0.6864   0.6741  0.065693"
      ]
     },
     "execution_count": 70,
     "metadata": {},
     "output_type": "execute_result"
    }
   ],
   "source": [
    "fit_val_model(LogisticRegression(), 'Log_reg', feat_imp_lr_to_drop)"
   ]
  },
  {
   "cell_type": "markdown",
   "metadata": {},
   "source": [
    "# Предсказание и формирование файла с ответом"
   ]
  },
  {
   "cell_type": "code",
   "execution_count": 79,
   "metadata": {},
   "outputs": [],
   "source": [
    "cat_feats = X_train.drop(columns=feat_imp_lgbm_to_drop).select_dtypes(include='object').columns\n",
    "num_feats = X_train.drop(columns=feat_imp_lgbm_to_drop).select_dtypes(exclude='object').columns\n",
    "\n",
    "sc = StandardScaler()\n",
    "transf = PowerTransformer(method='yeo-johnson')\n",
    "numeric_transformer = Pipeline(steps=[('transf', transf), ('scaler', sc)])\n",
    "cat_trans = OneHotEncoder(handle_unknown='ignore')\n",
    "\n",
    "preprocessor = ColumnTransformer(\n",
    "    transformers=[('numeric', numeric_transformer, num_feats),\n",
    "        ('cat', cat_trans, cat_feats)\n",
    "    ])\n",
    "X = preprocessor.fit_transform(X_train.drop(columns=feat_imp_lgbm_to_drop))\n",
    "X_t = preprocessor.transform(X_test.drop(columns=feat_imp_lgbm_to_drop))\n",
    "\n",
    "lgb = LGBMClassifier(random_state=rs)\n",
    "lgb.fit(X, y_train)\n",
    "\n",
    "lgb_pred = lgb.predict_proba(X_t)[:, 1]"
   ]
  },
  {
   "cell_type": "code",
   "execution_count": 80,
   "metadata": {},
   "outputs": [
    {
     "data": {
      "text/plain": [
       "35"
      ]
     },
     "execution_count": 80,
     "metadata": {},
     "output_type": "execute_result"
    }
   ],
   "source": [
    "X.shape[1]"
   ]
  },
  {
   "cell_type": "code",
   "execution_count": 81,
   "metadata": {},
   "outputs": [],
   "source": [
    "answ_df = test_df[['record_id']]"
   ]
  },
  {
   "cell_type": "code",
   "execution_count": 82,
   "metadata": {},
   "outputs": [],
   "source": [
    "answ_df['id'] = answ_df['record_id']"
   ]
  },
  {
   "cell_type": "code",
   "execution_count": 83,
   "metadata": {},
   "outputs": [],
   "source": [
    "answ_df.drop('record_id',axis=1, inplace=True)"
   ]
  },
  {
   "cell_type": "code",
   "execution_count": 84,
   "metadata": {},
   "outputs": [],
   "source": [
    "answ_df['predict'] = (lgb_pred>0.065296).astype(int)"
   ]
  },
  {
   "cell_type": "code",
   "execution_count": 85,
   "metadata": {},
   "outputs": [],
   "source": [
    "answ_df.to_csv('PD-submit.csv',index=False, sep=';')"
   ]
  },
  {
   "cell_type": "markdown",
   "metadata": {},
   "source": [
    "# Итого"
   ]
  },
  {
   "cell_type": "markdown",
   "metadata": {},
   "source": [
    "Лучший скор выдала модель LGBM с добавлением полиномиальных фичей (- feats_to_drop + квадратичные - корреляция исходных) c accuracy = 0.67. Однако в данном случае признаков было ~80.\n",
    "Цель - правильно разработанная модель, удовлетворяющая требованиям банковской системы. Чем меньше признаков, тем выше стабильность модели. При этом для банка важна интерпретируемость модели. В итоге в результате отбора признаков LGBM выдал accuracy = 0.64, однако число признаков значительно уменьшилось и стало равно 35. А так как модель не должна обладать излишней сложоностью, то в таком случае можно использовать логистическую регрессию.   "
   ]
  },
  {
   "cell_type": "code",
   "execution_count": null,
   "metadata": {},
   "outputs": [],
   "source": []
  }
 ],
 "metadata": {
  "colab": {
   "collapsed_sections": [],
   "provenance": []
  },
  "kernelspec": {
   "display_name": "Python 3 (ipykernel)",
   "language": "python",
   "name": "python3"
  },
  "language_info": {
   "codemirror_mode": {
    "name": "ipython",
    "version": 3
   },
   "file_extension": ".py",
   "mimetype": "text/x-python",
   "name": "python",
   "nbconvert_exporter": "python",
   "pygments_lexer": "ipython3",
   "version": "3.9.12"
  }
 },
 "nbformat": 4,
 "nbformat_minor": 1
}
